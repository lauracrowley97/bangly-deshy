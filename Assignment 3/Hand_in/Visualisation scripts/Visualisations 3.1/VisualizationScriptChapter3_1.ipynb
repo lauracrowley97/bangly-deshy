{
 "cells": [
  {
   "cell_type": "code",
   "execution_count": 1,
   "metadata": {},
   "outputs": [],
   "source": [
    "#Import / download all necessary packages\n",
    "import missingno as mo\n",
    "import pandas as pd\n",
    "import numpy as np\n",
    "import plotly as plotly\n",
    "import plotly.plotly as py\n",
    "import plotly.graph_objs as go\n",
    "%matplotlib inline\n",
    "import matplotlib.pyplot as plt\n",
    "from scipy import ndimage\n",
    "import geopandas\n",
    "from geopandas.geodataframe import GeoDataFrame\n",
    "from shapely.geometry import Point\n",
    "from mpl_toolkits.basemap import Basemap\n",
    "from matplotlib import cm\n",
    "import seaborn as sns\n",
    "import folium\n",
    "import math\n",
    "import re"
   ]
  },
  {
   "cell_type": "code",
   "execution_count": 2,
   "metadata": {},
   "outputs": [],
   "source": [
    "# Read in the data\n",
    "df = pd.read_csv('Bridge_data_with_link_to_traffic.csv')\n",
    "df2 = pd.read_csv('data_traffic_road_segments.csv')\n",
    "# Make coordinates from the latitude and longitude\n",
    "df['Coordinates'] = list(zip(df.lon, df.lat))\n",
    "df['Coordinates'] = df['Coordinates'].apply(Point)\n",
    "gdfc = GeoDataFrame(df, geometry='Coordinates')\n",
    "# Make a dict to assign a color based on the vulnerability value\n",
    "d={}\n",
    "d['A'] = 0\n",
    "d['B'] = 0.3\n",
    "d['C'] = 0.6\n",
    "d['D'] = 1.0\n",
    "df2.drop(df2.index[[894]], inplace = True)"
   ]
  },
  {
   "cell_type": "code",
   "execution_count": 3,
   "metadata": {},
   "outputs": [],
   "source": [
    "# Only run the line below if you just want to plot 1 road (or more) instead of all roads\n",
    "#gdfc = gdfc[gdfc['road'] == 'N1' ]"
   ]
  },
  {
   "cell_type": "code",
   "execution_count": 4,
   "metadata": {
    "scrolled": false
   },
   "outputs": [],
   "source": [
    "# First create a map using the folium Package\n",
    "Bangladesh = folium.Map(tiles=\"cartodbpositron\")\n",
    "# Then make a colormap to visualise a certain aspect, in this case the vulnerability, and add this colormap to the map\n",
    "vmax = float(df2['Economic Traffic'].max())\n",
    "linear = folium.LinearColormap(['green','yellow','red'], vmin=0., vmax=vmax)\n",
    "linear.caption = 'Measure of Criticality where red is most critical and green the least'\n",
    "Bangladesh.add_child(linear)\n",
    "# Create all the information we want to show in the pop-up in a html format\n",
    "def popopHTMLString(point,color):\n",
    "    html = 'LRP: '\n",
    "    html += point.LRPName\n",
    "    \n",
    "    html += ' <br>'\n",
    "    html += 'Categorie: '\n",
    "    html += point.condition\n",
    "    \n",
    "    html += ' <br>'\n",
    "    html += 'Economic value: '\n",
    "    html += str(color)\n",
    "    \n",
    "    html += ' <br>'\n",
    "    html += 'Road Name: '\n",
    "    html += point.road\n",
    "    \n",
    "    return html\n",
    "# Now we iterate through our dataframe and add all points to the map. We extract from every row the value of the vulnerability\n",
    "# and use the colormap to assign a color to that specific value\n",
    "def plotDot(point):\n",
    "    '''input: series that contains a numeric named latitude and a numeric named longitude\n",
    "    this function creates a CircleMarker and adds it to your this_map'''   \n",
    "    # This if statement below is to correct for the cells that have no value\n",
    "    if len(df2.loc[df2['Link no'] == point.Road_segment_no, 'Economic Traffic']) > 0 :\n",
    "        color = int(df2.loc[df2['Link no'] == point.Road_segment_no, 'Economic Traffic'])\n",
    "    else:\n",
    "        color = 0\n",
    "    # Create a string to show in the pop-up\n",
    "    htmlString = folium.Html(popopHTMLString(point,color), script=True)\n",
    "    folium.CircleMarker(location=[point.lat, point.lon],\n",
    "                        radius=3,\n",
    "                        weight=2,\n",
    "                        popup = folium.Popup(htmlString),\n",
    "                        color = linear(color),\n",
    "                        fill_opacity=d[point.condition],\n",
    "                        line_opacity=1,                        \n",
    "                        fill_color=linear(color)).add_to(Bangladesh) \n",
    "# We use df.apply(,axis=1) to iterate through every row in your dataframe\n",
    "gdfc.apply(plotDot, axis = 1)\n",
    "\n",
    "# Here we set the zoom to the maximum possible, to always have the right view when showing just one road or all\n",
    "Bangladesh.fit_bounds(Bangladesh.get_bounds())\n",
    "\n",
    "# Save our map to an HTML file\n",
    "Bangladesh.save('Bangladesh_Criticality.html')\n",
    "# Plot it below (plotting with all bridges is too much to ask apperently. It will only plot in the notebook with a few roads)\n",
    "# The HTML will always be outputted however\n",
    "# Bangladesh"
   ]
  },
  {
   "cell_type": "code",
   "execution_count": 5,
   "metadata": {},
   "outputs": [],
   "source": [
    "# Make a dict to assign a color based on the vulnerability value \n",
    "d={}\n",
    "d['A'] = 'green'\n",
    "d['B'] = 'yellow'\n",
    "d['C'] = 'orange'\n",
    "d['D'] = 'red'"
   ]
  },
  {
   "cell_type": "code",
   "execution_count": 6,
   "metadata": {},
   "outputs": [],
   "source": [
    "# First create a map using the folium Package\n",
    "Bangladesh = folium.Map(tiles=\"cartodbpositron\")\n",
    "# Then make a colormap to visualise a certain aspect, in this case the vulnerability, and add this colormap to the map\n",
    "vmax = float(df2['Economic Traffic'].max())\n",
    "linear = folium.LinearColormap(['green','yellow','red'], vmin=0., vmax=1)\n",
    "linear.caption = 'Measure of Vulnerability where red is most vulnerable and green the least'\n",
    "Bangladesh.add_child(linear)\n",
    "# Create all the information we want to show in the pop-up in a html format\n",
    "def popopHTMLString(point,color):\n",
    "    html = 'LRP: '\n",
    "    html += point.LRPName\n",
    "    \n",
    "    html += ' <br>'\n",
    "    html += 'Categorie: '\n",
    "    html += point.condition\n",
    "    \n",
    "    html += ' <br>'\n",
    "    html += 'Economic value: '\n",
    "    html += str(color)\n",
    "    \n",
    "    html += ' <br>'\n",
    "    html += 'Road Name: '\n",
    "    html += point.road\n",
    "    \n",
    "    return html\n",
    "# Now we iterate through our dataframe and add all points to the map. We extract from every row the value of the vulnerability\n",
    "# and use the colormap to assign a color to that specific value\n",
    "def plotDot(point):\n",
    "    '''input: series that contains a numeric named latitude and a numeric named longitude\n",
    "    this function creates a CircleMarker and adds it to your this_map'''   \n",
    "    # This if statement below is to correct for the cells that have no value\n",
    "    # There are only a few points with NaN, and they are displayed as green.\n",
    "    if len(df2.loc[df2['Link no'] == point.Road_segment_no, 'Economic Traffic']) > 0 :\n",
    "        color = int(df2.loc[df2['Link no'] == point.Road_segment_no, 'Economic Traffic'])\n",
    "    else:\n",
    "        color = 0\n",
    "    # Create a string to show in the pop-up\n",
    "    htmlString = folium.Html(popopHTMLString(point,color), script=True)\n",
    "    folium.CircleMarker(location=[point.lat, point.lon],\n",
    "                        radius=4,\n",
    "                        weight=2,\n",
    "                        popup = folium.Popup(htmlString),\n",
    "                        color = d[point.condition],\n",
    "                        fill_opacity=color/vmax,\n",
    "                        line_opacity=1,                        \n",
    "                        fill_color=d[point.condition]).add_to(Bangladesh) \n",
    "# We use df.apply(,axis=1) to iterate through every row in your dataframe\n",
    "gdfc.apply(plotDot, axis = 1)\n",
    "\n",
    "# Here we set the zoom to the maximum possible, to always have the right view when showing just one road or all\n",
    "Bangladesh.fit_bounds(Bangladesh.get_bounds())\n",
    "\n",
    "# Save our map to an HTML file\n",
    "Bangladesh.save('Bangladesh_Vulnerability.html')\n",
    "# Plot it below (plotting with all bridges is too much to ask apperently. It will only plot in the notebook with a few roads)\n",
    "# The HTML will always be outputted however\n",
    "# Bangladesh"
   ]
  },
  {
   "cell_type": "code",
   "execution_count": 7,
   "metadata": {},
   "outputs": [],
   "source": [
    "# This function creates a heatmap based on the number of bridges. Red indicates that there are many bridges, where blue indicated there are none, with orange and yellow in the middle.\n",
    "def heatmap(d, bins=(100,100), smoothing=1.3, cmap='jet'):\n",
    "    def getx(pt):\n",
    "        return pt.coords[0][0]\n",
    "\n",
    "    def gety(pt):\n",
    "        return pt.coords[0][1]\n",
    "\n",
    "    x = list(d.geometry.apply(getx))\n",
    "    y = list(d.geometry.apply(gety))\n",
    "    heatmap, xedges, yedges = np.histogram2d(y, x, bins=bins)\n",
    "    extent = [yedges[0], yedges[-1], xedges[-1], xedges[0]]\n",
    "\n",
    "    logheatmap = np.log(heatmap)\n",
    "    logheatmap[np.isneginf(logheatmap)] = 0\n",
    "    logheatmap = ndimage.filters.gaussian_filter(logheatmap, smoothing, mode='nearest')\n",
    "    \n",
    "    plt.imshow(logheatmap, cmap=cmap, extent=extent)\n",
    "    plt.colorbar()\n",
    "    plt.gca().invert_yaxis()\n",
    "    plt.figure(figsize=(10,15))\n",
    "    plt.savefig('heatmap.png', dpi=100)\n",
    "    plt.show()"
   ]
  },
  {
   "cell_type": "code",
   "execution_count": 8,
   "metadata": {},
   "outputs": [
    {
     "name": "stderr",
     "output_type": "stream",
     "text": [
      "C:\\Users\\User\\Anaconda3\\lib\\site-packages\\ipykernel_launcher.py:14: RuntimeWarning:\n",
      "\n",
      "divide by zero encountered in log\n",
      "\n"
     ]
    },
    {
     "data": {
      "image/png": "[encoded data removed]",
      "text/plain": [
       "<Figure size 432x288 with 2 Axes>"
      ]
     },
     "metadata": {
      "needs_background": "light"
     },
     "output_type": "display_data"
    },
    {
     "data": {
      "text/plain": [
       "<Figure size 720x1080 with 0 Axes>"
      ]
     },
     "metadata": {},
     "output_type": "display_data"
    }
   ],
   "source": [
    "heatmap(gdfc, bins=50, smoothing=1.5)"
   ]
  },
  {
   "cell_type": "code",
   "execution_count": 9,
   "metadata": {},
   "outputs": [],
   "source": [
    "df = pd.read_csv('Traffic_segment_data.csv')\n",
    "df.drop(df.columns[0:2], axis=1,inplace = True)\n",
    "df.drop('segment_vulnerability_length', axis = 1, inplace = True)\n",
    "df.drop('missing_segment', axis = 1, inplace = True)\n",
    "df=df.rename(columns = {'segment_vulnerability_normalized':'Vulnerability'})\n",
    "df=df.rename(columns = {'Economic_Traffic_normalized':'Criticality'})\n",
    "df.Criticality = df.Criticality.apply(pd.to_numeric)\n",
    "df.dropna(inplace=True)"
   ]
  },
  {
   "cell_type": "code",
   "execution_count": 10,
   "metadata": {},
   "outputs": [],
   "source": [
    "# First select the road you want to display\n",
    "road = 'N1'\n",
    "df = df[df['Road_Name'] == road ]"
   ]
  },
  {
   "cell_type": "code",
   "execution_count": 11,
   "metadata": {},
   "outputs": [
    {
     "name": "stderr",
     "output_type": "stream",
     "text": [
      "C:\\Users\\User\\Anaconda3\\lib\\site-packages\\IPython\\core\\display.py:689: UserWarning:\n",
      "\n",
      "Consider using IPython.display.IFrame instead\n",
      "\n"
     ]
    },
    {
     "data": {
      "text/html": [
       "<iframe id=\"igraph\" scrolling=\"no\" style=\"border:none;\" seamless=\"seamless\" src=\"https://plot.ly/~rdregmans/32.embed\" height=\"525px\" width=\"100%\"></iframe>"
      ],
      "text/plain": [
       "<plotly.tools.PlotlyDisplay object>"
      ]
     },
     "execution_count": 11,
     "metadata": {},
     "output_type": "execute_result"
    }
   ],
   "source": [
    "hover_text = []\n",
    "# Iterate through all the rows and create the text we want to show when hovering over a certain data point. Add this to the column Text\n",
    "for index, row in df.iterrows():\n",
    "    hover_text.append(('Criticality: {criticality}<br>'+\n",
    "                      'Vulnerability: {vulnerability}<br>' + \n",
    "                       'Road name: {roadname}<br>' + \n",
    "                       'Start LRP: {startLRP}<br>' + \n",
    "                       'End LRP: {endLRP}'\n",
    "                      ).format(criticality=round(row['Criticality'],2),\n",
    "                               vulnerability=round(row['Vulnerability'],2),\n",
    "                               roadname=row['Road_Name'],\n",
    "                               startLRP=row['Start LRP'],\n",
    "                               endLRP=row['End LRP'])\n",
    "                     )\n",
    "df['Text'] = hover_text\n",
    "data = []\n",
    "# Get a list of all different modes of transport\n",
    "modes = list(df)[12:28]\n",
    "# Create the same number of traces, so we can switch on and off the different modes of transport\n",
    "traces = ['trace' + str(i) for i in range(1,len(modes)+1)] \n",
    "# Define the traces with on the x-axis the Criticality and on the y-axis the Vulnerability \n",
    "# and make the size correspond to the density of that mode of transport\n",
    "for trace, mode in zip(traces, modes):\n",
    "    sizeref = 2.*max(df[mode])/(100**2)\n",
    "    trace = go.Scatter(\n",
    "        x=df['Criticality'], \n",
    "        y=df['Vulnerability'],\n",
    "        mode='markers',\n",
    "        name=mode,\n",
    "        text=df['Text'],\n",
    "        marker=dict(\n",
    "            symbol='circle',\n",
    "            sizemode='area',\n",
    "            sizeref=sizeref,\n",
    "            size=df[mode]/3,\n",
    "            line=dict(\n",
    "                width=2\n",
    "            ),\n",
    "        )\n",
    "    )\n",
    "    data.append(trace)\n",
    "    \n",
    "data = data\n",
    "# Add the layout to the map. This includes the legend, title and the settings for the axes\n",
    "layout = go.Layout(\n",
    "    hovermode = 'closest',\n",
    "    title='Criticality versus Vulnerability for all Modes of Transport by road segment',\n",
    "    annotations=[\n",
    "        dict(\n",
    "            x=1.12,\n",
    "            y=1.05,\n",
    "            align=\"right\",\n",
    "            valign=\"top\",\n",
    "            text='Modes of transport',\n",
    "            showarrow=False,\n",
    "            xref=\"paper\",\n",
    "            yref=\"paper\",\n",
    "            xanchor=\"center\",\n",
    "            yanchor=\"top\",\n",
    "        )],\n",
    "    xaxis=dict(\n",
    "        title='Criticality',\n",
    "        gridcolor='rgb(255, 255, 255)',\n",
    "        range=[0,1],\n",
    "        zerolinewidth=1,\n",
    "        ticklen=5,\n",
    "        gridwidth=2,\n",
    "    ),\n",
    "    yaxis=dict(\n",
    "        title='Vulnerability',\n",
    "        gridcolor='rgb(255, 255, 255)',\n",
    "        range=[0,0.2],\n",
    "        zerolinewidth=1,\n",
    "        ticklen=5,\n",
    "        gridwidth=2,\n",
    "    ),\n",
    "    paper_bgcolor='rgb(243, 243, 243)',\n",
    "    plot_bgcolor='rgb(243, 243, 243)',\n",
    ")\n",
    "\n",
    "fig = go.Figure(data=data, layout=layout)\n",
    "py.iplot(fig,visible = 'legendonly', filename='life-expectancy-per-GDP-2007')"
   ]
  },
  {
   "cell_type": "code",
   "execution_count": null,
   "metadata": {},
   "outputs": [],
   "source": []
  }
 ],
 "metadata": {
  "kernelspec": {
   "display_name": "Python 3",
   "language": "python",
   "name": "python3"
  },
  "language_info": {
   "codemirror_mode": {
    "name": "ipython",
    "version": 3
   },
   "file_extension": ".py",
   "mimetype": "text/x-python",
   "name": "python",
   "nbconvert_exporter": "python",
   "pygments_lexer": "ipython3",
   "version": "3.7.1"
  }
 },
 "nbformat": 4,
 "nbformat_minor": 2
}
