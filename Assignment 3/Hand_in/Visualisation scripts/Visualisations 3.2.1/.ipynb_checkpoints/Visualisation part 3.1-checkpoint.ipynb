{
 "cells": [
  {
   "cell_type": "code",
   "execution_count": 1,
   "metadata": {},
   "outputs": [],
   "source": [
    "#STEP 1 - import packages\n",
    "import pandas as pd\n",
    "import numpy as np\n",
    "import warnings\n",
    "warnings.filterwarnings('ignore')\n",
    "\n",
    "import plotly as plotly\n",
    "import plotly.plotly as py\n",
    "import plotly.graph_objs as go\n",
    "import plotly.figure_factory as ff\n",
    "\n",
    "from plotly.offline import download_plotlyjs, init_notebook_mode, plot, iplot\n",
    "plotly.tools.set_credentials_file(username='martijnvanvlie', api_key='nDD1QdIOq3rOEO51bazE')\n",
    "\n",
    "#set specific color\n",
    "pblue = 'rgb(31,119,180)'\n",
    "porange = 'rgb(255,127,14)'"
   ]
  },
  {
   "cell_type": "code",
   "execution_count": 2,
   "metadata": {},
   "outputs": [],
   "source": [
    "#STEP 2 - Load in data\n",
    "df_traffic = pd.read_csv('Traffic_segment_data.csv', encoding='utf-8',sep = \",\")\n",
    "df_BMSS_traffic_link = pd.read_csv('Bridge_data_with_link_to_traffic.csv',encoding='utf-8',sep = \",\")\n",
    "\n",
    "#calculate segment score (we weigth vulnerability and criticality equally)\n",
    "df_traffic[\"segment_score\"] = \"\"\n",
    "df_traffic[\"Road_cat\"] = \"\"\n",
    "df_traffic[\"segment_score\"] = df_traffic[\"segment_vulnerability_normalized\"] * df_traffic[\"Economic_Traffic_normalized\"]\n",
    "\n",
    "#get type of road to plot in scatter\n",
    "df_traffic[\"Road_cat\"] =  df_traffic['Road_Name'].astype(str).str[0]\n",
    "\n",
    "#get top-10 segments of all segments of all roads\n",
    "df_traffic = df_traffic.sort_values(by='segment_score',ascending = False)\n",
    "top_points_df = df_traffic[0:10]\n",
    "top_points_df[\"numeric\"] = \"\"\n",
    "\n",
    "for row in range(len(top_points_df)):\n",
    "    if top_points_df.Road_cat.iloc[row,] == \"N\":\n",
    "        top_points_df.numeric.iloc[row,] = 1\n",
    "    if top_points_df.Road_cat.iloc[row,] == \"R\":\n",
    "        top_points_df.numeric.iloc[row,] = 2\n",
    "\n",
    "#interactive transport scatter plot data\n",
    "df = pd.read_csv('Traffic_segment_data.csv')\n",
    "df.drop(df.columns[0:1], axis=1,inplace = True)\n",
    "df.drop('segment_vulnerability_length', axis = 1, inplace = True)\n",
    "df.drop('missing_segment', axis = 1, inplace = True)\n",
    "df=df.rename(columns = {'segment_vulnerability_normalized':'Vulnerability'})\n",
    "df=df.rename(columns = {'Economic_Traffic_normalized':'Criticality'})\n",
    "df.Criticality = df.Criticality.apply(pd.to_numeric)\n",
    "df.dropna(inplace=True)"
   ]
  },
  {
   "cell_type": "code",
   "execution_count": 3,
   "metadata": {},
   "outputs": [
    {
     "data": {
      "text/html": [
       "<iframe id=\"igraph\" scrolling=\"no\" style=\"border:none;\" seamless=\"seamless\" src=\"https://plot.ly/~martijnvanvlie/38.embed\" height=\"525px\" width=\"100%\"></iframe>"
      ],
      "text/plain": [
       "<plotly.tools.PlotlyDisplay object>"
      ]
     },
     "execution_count": 3,
     "metadata": {},
     "output_type": "execute_result"
    }
   ],
   "source": [
    "#Step 3 - Interactive transport mode plot\n",
    "hover_text = []\n",
    "# Iterate through all the rows and create the text we want to show when hovering over a certain data point. Add this to the column Text\n",
    "for index, row in df.iterrows():\n",
    "    hover_text.append(('Criticality: {criticality}<br>'+\n",
    "                      'Vulnerability: {vulnerability}<br>' + \n",
    "                       'Road name: {roadname}<br>' + \n",
    "                       'Start LRP: {startLRP}<br>' + \n",
    "                       'End LRP: {endLRP}'\n",
    "                      ).format(criticality=round(row['Criticality'],2),\n",
    "                               vulnerability=round(row['Vulnerability'],2),\n",
    "                               roadname=row['Road_Name'],\n",
    "                               startLRP=row['Start LRP'],\n",
    "                               endLRP=row['End LRP'])\n",
    "                     )\n",
    "df['Text'] = hover_text\n",
    "data = []\n",
    "# Get a list of all different modes of transport\n",
    "modes = list(df)[12:28]\n",
    "# Create the same number of traces, so we can switch on and off the different modes of transport\n",
    "traces = ['trace' + str(i) for i in range(1,len(modes)+1)] \n",
    "# Define the traces with on the x-axis the Criticality and on the y-axis the Vulnerability \n",
    "# and make the size correspond to the density of that mode of transport\n",
    "for trace, mode in zip(traces, modes):\n",
    "    sizeref = 2.*max(df[mode])/(100**2)\n",
    "    trace = go.Scatter(\n",
    "        x=df['Criticality'], \n",
    "        y=df['Vulnerability'],\n",
    "        mode='markers',\n",
    "        name=mode,\n",
    "        text=df['Text'],\n",
    "        marker=dict(\n",
    "            symbol='circle',\n",
    "            sizemode='area',\n",
    "            sizeref=sizeref,\n",
    "            size=df[mode]/4,\n",
    "            line=dict(\n",
    "                width=2\n",
    "            ),\n",
    "        )\n",
    "    )\n",
    "    data.append(trace)\n",
    "    \n",
    "data = data\n",
    "# Add the layout to the map. This includes the legend, title and the settings for the axes\n",
    "layout = go.Layout(\n",
    "    hovermode = 'closest',\n",
    "    title='Criticality vs. vulnerability for all road segments per mode of transport',\n",
    "    annotations=[\n",
    "        dict(\n",
    "            x=1.12,\n",
    "            y=1.05,\n",
    "            align=\"right\",\n",
    "            valign=\"top\",\n",
    "            text='Modes of transport',\n",
    "            showarrow=False,\n",
    "            xref=\"paper\",\n",
    "            yref=\"paper\",\n",
    "            xanchor=\"center\",\n",
    "            yanchor=\"top\",\n",
    "        )],\n",
    "    xaxis=dict(\n",
    "        title='Criticality',\n",
    "        gridcolor='rgb(255, 255, 255)',\n",
    "        range=[0,1],\n",
    "        zerolinewidth=1,\n",
    "        ticklen=5,\n",
    "        gridwidth=2,\n",
    "    ),\n",
    "    yaxis=dict(\n",
    "        title='Vulnerability',\n",
    "        gridcolor='rgb(255, 255, 255)',\n",
    "        range=[0,1],\n",
    "        zerolinewidth=1,\n",
    "        ticklen=5,\n",
    "        gridwidth=2,\n",
    "    ),\n",
    "    paper_bgcolor='rgb(243, 243, 243)',\n",
    "    plot_bgcolor='rgb(243, 243, 243)',\n",
    ")\n",
    "\n",
    "fig = go.Figure(data=data, layout=layout)\n",
    "py.iplot(fig,visible = 'legendonly')"
   ]
  },
  {
   "cell_type": "code",
   "execution_count": 4,
   "metadata": {
    "scrolled": true
   },
   "outputs": [
    {
     "data": {
      "text/html": [
       "<iframe id=\"igraph\" scrolling=\"no\" style=\"border:none;\" seamless=\"seamless\" src=\"https://plot.ly/~martijnvanvlie/40.embed\" height=\"525px\" width=\"100%\"></iframe>"
      ],
      "text/plain": [
       "<plotly.tools.PlotlyDisplay object>"
      ]
     },
     "execution_count": 4,
     "metadata": {},
     "output_type": "execute_result"
    }
   ],
   "source": [
    "#STEP 4 - CREATE SCATTERPLOT CRITICALITY/VULNERABIILTY/ROAD CATEGORIE BASED ON SCORES (TOP 10)\n",
    "#make two traces, one for R roads one for N roads\n",
    "trace_1_x = top_points_df[top_points_df[\"Road_cat\"] == \"R\"]\n",
    "trace_1_x = trace_1_x[\"segment_vulnerability_normalized\"]\n",
    "trace_1_x = trace_1_x.values.tolist()\n",
    "\n",
    "trace_1_y = top_points_df[top_points_df[\"Road_cat\"] == \"R\"]\n",
    "trace_1_y = trace_1_y[\"Economic_Traffic_normalized\"]\n",
    "trace_1_y = trace_1_y.values.tolist()\n",
    "\n",
    "trace_2_x = top_points_df[top_points_df[\"Road_cat\"] == \"N\"]\n",
    "trace_2_x = trace_2_x[\"segment_vulnerability_normalized\"]\n",
    "trace_2_x = trace_2_x.values.tolist()\n",
    "\n",
    "trace_2_y = top_points_df[top_points_df[\"Road_cat\"] == \"N\"]\n",
    "trace_2_y = trace_2_y[\"Economic_Traffic_normalized\"]\n",
    "trace_2_y = trace_2_y.values.tolist()\n",
    "\n",
    "#setup structure of traces\n",
    "trace1 = {\"x\": trace_1_y,\n",
    "          \"y\": trace_1_x, \n",
    "          \"marker\": {\"color\": porange, \"size\": 12}, \n",
    "          \"mode\": \"markers\", \n",
    "          \"name\": \"R roads\", \n",
    "          \"type\": \"scatter\"}\n",
    "\n",
    "trace2 = {\"x\": trace_2_y, \n",
    "          \"y\": trace_2_x, \n",
    "          \"marker\": {\"color\": pblue, \"size\": 12}, \n",
    "          \"mode\": \"markers\", \n",
    "          \"name\": \"N roads\", \n",
    "          \"type\": \"scatter\", \n",
    "}\n",
    "\n",
    "data = [trace1, trace2]\n",
    "#setup layout of the plot\n",
    "layout = {\"title\": \"Top 10 road segments based on Criticalility and Vulnerability\", \n",
    "          \"xaxis\": {\"title\": \"Criticality (normalised)\", }, \n",
    "          \"yaxis\": {\"title\": \"Vulnerability (normalised)\"}}\n",
    "\n",
    "fig = go.Figure(data=data, layout=layout)\n",
    "py.iplot(fig)"
   ]
  },
  {
   "cell_type": "code",
   "execution_count": 5,
   "metadata": {},
   "outputs": [
    {
     "data": {
      "text/html": [
       "<iframe id=\"igraph\" scrolling=\"no\" style=\"border:none;\" seamless=\"seamless\" src=\"https://plot.ly/~martijnvanvlie/42.embed\" height=\"525px\" width=\"100%\"></iframe>"
      ],
      "text/plain": [
       "<plotly.tools.PlotlyDisplay object>"
      ]
     },
     "execution_count": 5,
     "metadata": {},
     "output_type": "execute_result"
    }
   ],
   "source": [
    "#Plot scatter plot of segment score\n",
    "#Get list names and scores of each segment\n",
    "list_of_road_segments = top_points_df.Link_No.tolist()\n",
    "list_of_scores = top_points_df.segment_score.tolist()\n",
    "\n",
    "#setup structure of plot\n",
    "data = [go.Scatter(\n",
    "            x=list_of_road_segments,\n",
    "            y=list_of_scores,\n",
    "            name='Absolute',\n",
    "            mode = \"markers\",\n",
    "            marker=dict(line=dict(color=porange, width=10)))]\n",
    "#setup layout of plot (x axis and y axis)\n",
    "layout = go.Layout(\n",
    "            title='Segment score of top 10 road segments',\n",
    "            yaxis=dict(title= 'Segment score', range = [0,0.2]),\n",
    "            xaxis=dict(title= 'Road label'))\n",
    "fig = dict(data=data, layout=layout)\n",
    "py.iplot(fig)"
   ]
  },
  {
   "cell_type": "code",
   "execution_count": null,
   "metadata": {},
   "outputs": [],
   "source": []
  }
 ],
 "metadata": {
  "kernelspec": {
   "display_name": "Python 3",
   "language": "python",
   "name": "python3"
  },
  "language_info": {
   "codemirror_mode": {
    "name": "ipython",
    "version": 3
   },
   "file_extension": ".py",
   "mimetype": "text/x-python",
   "name": "python",
   "nbconvert_exporter": "python",
   "pygments_lexer": "ipython3",
   "version": "3.7.1"
  }
 },
 "nbformat": 4,
 "nbformat_minor": 2
}
