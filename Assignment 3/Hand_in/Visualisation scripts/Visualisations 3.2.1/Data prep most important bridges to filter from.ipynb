{
 "cells": [
  {
   "cell_type": "code",
   "execution_count": 1,
   "metadata": {},
   "outputs": [],
   "source": [
    "import pandas as pd\n",
    "import numpy as np\n",
    "import warnings\n",
    "warnings.filterwarnings('ignore')"
   ]
  },
  {
   "cell_type": "code",
   "execution_count": 2,
   "metadata": {},
   "outputs": [],
   "source": [
    "#OLD STEPS OF LOADING IN DATA --> For assignment 3\n",
    "df_traffic = pd.read_csv('Traffic_segment_data.csv', encoding='utf-8',sep = \",\")\n",
    "df_BMSS_traffic_link = pd.read_csv('Bridge_data_with_link_to_traffic.csv',encoding='utf-8',sep = \",\")\n",
    "\n",
    "#calculate segment score (we weigth vulnerability and criticality equally)\n",
    "df_traffic[\"segment_score\"] = \"\"\n",
    "df_traffic[\"Road_cat\"] = \"\"\n",
    "df_traffic[\"segment_score\"] = df_traffic[\"segment_vulnerability_normalized\"] * df_traffic[\"Economic_Traffic_normalized\"]\n",
    "\n",
    "#get type of road to plot in scatter\n",
    "df_traffic[\"Road_cat\"] =  df_traffic['Road_Name'].astype(str).str[0]\n",
    "\n",
    "#get top-10 segments of all segments of all roads\n",
    "df_traffic = df_traffic.sort_values(by='segment_score',ascending = False)\n",
    "top_points_df = df_traffic[0:10]\n",
    "top_points_df[\"numeric\"] = \"\"\n",
    "\n",
    "for row in range(len(top_points_df)):\n",
    "    if top_points_df.Road_cat.iloc[row,] == \"N\":\n",
    "        top_points_df.numeric.iloc[row,] = 1\n",
    "    if top_points_df.Road_cat.iloc[row,] == \"R\":\n",
    "        top_points_df.numeric.iloc[row,] = 2\n",
    "\n",
    "#interactive transport scatter plot data\n",
    "df = pd.read_csv('Traffic_segment_data.csv')\n",
    "df.drop(df.columns[0:1], axis=1,inplace = True)\n",
    "df.drop('segment_vulnerability_length', axis = 1, inplace = True)\n",
    "df.drop('missing_segment', axis = 1, inplace = True)\n",
    "df=df.rename(columns = {'segment_vulnerability_normalized':'Vulnerability'})\n",
    "df=df.rename(columns = {'Economic_Traffic_normalized':'Criticality'})\n",
    "df.Criticality = df.Criticality.apply(pd.to_numeric)\n",
    "df.dropna(inplace=True)"
   ]
  },
  {
   "cell_type": "code",
   "execution_count": 4,
   "metadata": {},
   "outputs": [],
   "source": [
    "#Selecting the five most important segments (on criticality and vulnerability and get list of LRP of bridges to sample from)\n",
    "df_traffic_assignment_4 = df_traffic.sort_values(by='segment_score', ascending=False)\n",
    "df_traffic_assignment_4 = df_traffic_assignment_4[df_traffic_assignment_4[\"Road_Name\"]==\"N1\"]\n",
    "df_traffic_assignment_4 = df_traffic_assignment_4[0:5]\n",
    "df_traffic_assignment_4 = df_traffic_assignment_4.sort_values(by='segment_score', ascending=False)\n",
    "df_traffic_assignment_4 = df_traffic_assignment_4[['Road_Name','Link_No','Link_Name','Start LRP','End LRP','Total_A','Total_B','Total_C','Total_D' ,'segment_score']]\n",
    "\n",
    "\n",
    "Top_five_segments = df_traffic_assignment_4[\"Link_No\"]\n",
    "Top_five_segments = Top_five_segments.values.tolist()\n",
    "\n",
    "df_most_important_bridges = df_BMSS_traffic_link[df_BMSS_traffic_link[\"Road_segment_no\"].isin(Top_five_segments)]\n",
    "df_most_important_bridges = df_most_important_bridges[['name','LRPName','Road_segment_no','condition' ]]\n",
    "\n",
    "df_most_important_bridges.to_csv('data_five_most_important_segments.csv', sep=',')"
   ]
  },
  {
   "cell_type": "code",
   "execution_count": null,
   "metadata": {},
   "outputs": [],
   "source": []
  }
 ],
 "metadata": {
  "kernelspec": {
   "display_name": "Python 3",
   "language": "python",
   "name": "python3"
  },
  "language_info": {
   "codemirror_mode": {
    "name": "ipython",
    "version": 3
   },
   "file_extension": ".py",
   "mimetype": "text/x-python",
   "name": "python",
   "nbconvert_exporter": "python",
   "pygments_lexer": "ipython3",
   "version": "3.7.1"
  }
 },
 "nbformat": 4,
 "nbformat_minor": 2
}
