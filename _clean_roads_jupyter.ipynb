{
 "cells": [
  {
   "cell_type": "code",
   "execution_count": 1,
   "metadata": {},
   "outputs": [],
   "source": [
    "#whaooooo\n",
    "# import libraries\n",
    "import pandas as pd\n",
    "import html5lib\n",
    "import matplotlib.pyplot as plt\n",
    "import numpy as np\n",
    "\n",
    "global df\n",
    "global df_original\n",
    "global diff_cutoff\n",
    "global counter \n",
    "global road_cleaned\n",
    "\n",
    "counter = 0\n",
    "diff_cutoff_lon = 0\n",
    "diff_cutoff_lat = 0\n",
    "df = pd.DataFrame()\n",
    "df_original = pd.DataFrame()\n",
    "road_cleaned = pd.DataFrame()"
   ]
  },
  {
   "cell_type": "code",
   "execution_count": 2,
   "metadata": {},
   "outputs": [
    {
     "name": "stdout",
     "output_type": "stream",
     "text": [
      "x\n"
     ]
    }
   ],
   "source": [
    "def import_data():\n",
    "     # doing all files together\n",
    "     # read in htm file\n",
    "     roadnames = pd.read_csv('_roadnames_list_2.csv') # need to have roadnames list in same folder path ##adjusted for testing\n",
    "     roadnames_list = list(roadnames.columns.unique())\n",
    "     for roadname in roadnames_list:\n",
    "          filename = \"{}.lrps.htm\".format(roadname)\n",
    "          f =  open(filename, \"rb\")\n",
    "          list_road = pd.read_html(f, skiprows = 2) # check skip rows\n",
    "          df_road = list_road[-1] # check argument\n",
    "          f.close()\n",
    "          #original datafile\n",
    "          global df\n",
    "          df = df_road.iloc[:,1:7]\n",
    "          df.columns = [\"LRPNo\",\"RoadChainage\",\"LRPType\",\"Description\",\"LatitudeDec\",\"LongitudeDec\"]\n",
    "          df[\"Road\"] = roadname\n",
    "          #df = '{} = pd.DataFrame'.format(roadname)\n",
    "          #pd.to_numeric(df[\"LatitudeDec\"], downcast=\"integer\") #coerce as float\n",
    "          #pd.to_numeric(df[\"LongitudeDec\"], downcast=\"integer\") #coerce as float\n",
    "          global df_original\n",
    "          df_original = df\n",
    "          determine_outliers()\n",
    "     road_cleaned.to_csv(\"cleaned_all_road_data.csv\", sep='\\t')\n",
    "print('x')"
   ]
  },
  {
   "cell_type": "code",
   "execution_count": 3,
   "metadata": {},
   "outputs": [
    {
     "name": "stdout",
     "output_type": "stream",
     "text": [
      "x\n"
     ]
    }
   ],
   "source": [
    "def plot_road(x):   \n",
    "     #plot the road with mistakes\n",
    "     plt.plot(x.LongitudeDec, x.LatitudeDec)\n",
    "     plt.title(\"Road\")\n",
    "     plt.xlabel(\"Longitude\")\n",
    "     plt.ylabel(\"Latitude\")\n",
    "     plt.show()\n",
    "print(\"x\")"
   ]
  },
  {
   "cell_type": "code",
   "execution_count": 4,
   "metadata": {},
   "outputs": [
    {
     "name": "stdout",
     "output_type": "stream",
     "text": [
      "x\n"
     ]
    }
   ],
   "source": [
    "def determine_outliers():\n",
    "     #Get the differences between up and down\n",
    "     global df\n",
    "     global counter\n",
    "     global diff_cutoff_lon\n",
    "     global diff_cutoff_lat\n",
    "     global road_cleaned\n",
    "     if counter < 4: \n",
    "          counter = counter + 1\n",
    "          #calculate the longitudeDec\n",
    "          df_diff_lon1 = [abs(df.LongitudeDec - df.LongitudeDec.shift(-1)) for row in df.LongitudeDec]\n",
    "          df_diff_lon2 = [abs(df.LongitudeDec - df.LongitudeDec.shift(1)) for row in df.LongitudeDec]\n",
    "          df[\"Difference_down_lon\"] = df_diff_lon1[0]\n",
    "          df[\"Difference_up_lon\"] = df_diff_lon2[0]\n",
    "          \n",
    "          #calculate the LatitudeDec\n",
    "          df_diff_lat1 = [abs(df.LatitudeDec - df.LatitudeDec.shift(-1)) for row in df.LatitudeDec]\n",
    "          df_diff_lat2 = [abs(df.LatitudeDec - df.LatitudeDec.shift(1)) for row in df.LatitudeDec]\n",
    "          df[\"Difference_down_lat\"] = df_diff_lat1[0]\n",
    "          df[\"Difference_up_lat\"] = df_diff_lat2[0]\n",
    "          \n",
    "          #determine the std and cut-off value\n",
    "          diff_lon_std = df.Difference_up_lon.std()\n",
    "          diff_lat_std = df.Difference_up_lat.std()\n",
    "          diff_cutoff_lon = (4*diff_lon_std)\n",
    "          diff_cutoff_lat = (4*diff_lat_std)\n",
    "          \n",
    "          #find outliers based on calculated differences between points\n",
    "          find_replace_outliers()\n",
    "     else:\n",
    "          counter = 0\n",
    "          road_cleaned = road_cleaned.append(df)\n",
    "print(\"x\")"
   ]
  },
  {
   "cell_type": "code",
   "execution_count": 5,
   "metadata": {},
   "outputs": [
    {
     "name": "stdout",
     "output_type": "stream",
     "text": [
      "x\n"
     ]
    }
   ],
   "source": [
    "def find_replace_outliers():\n",
    "    #select the outliers in a different dataframe\n",
    "     global df\n",
    "     outliers = pd.DataFrame()\n",
    "     outliers1 = df.loc[df[\"Difference_up_lon\"] > diff_cutoff_lon  ]\n",
    "     outliers2 = df.loc[df[\"Difference_down_lon\"] > diff_cutoff_lon  ]\n",
    "     outliers3 = df.loc[df[\"Difference_up_lat\"] > diff_cutoff_lat ]\n",
    "     outliers4 = df.loc[df[\"Difference_down_lat\"] > diff_cutoff_lat ]\n",
    "     #put outliers together\n",
    "     outliers = outliers.append(outliers1)\n",
    "     outliers = outliers.append(outliers2)\n",
    "     outliers = outliers.append(outliers3)\n",
    "     outliers = outliers.append(outliers4)\n",
    "     \n",
    "     outliers = outliers.drop_duplicates().sort_values(by=['LRPNo'])\n",
    "     outliers['middle_outlier_lon'] = np.where((outliers['Difference_up_lon'] > diff_cutoff_lon) & (outliers['Difference_down_lon'] > diff_cutoff_lon ), True,False)\n",
    "     outliers['middle_outlier_lat'] = np.where((outliers['Difference_up_lat'] > diff_cutoff_lat) & (outliers['Difference_down_lat'] > diff_cutoff_lat ), True,False)\n",
    "     \n",
    "     #average out the wrong values for the LongitudeDec\n",
    "     indeces_list_lon = outliers.index[outliers['middle_outlier_lon'] == True].tolist()\n",
    "     indeces_list_lat = outliers.index[outliers['middle_outlier_lat'] == True].tolist()\n",
    "     #create replaced column\n",
    "     outliers[\"replaced\"] = \"\"\n",
    "     #loop through longitude indices\n",
    "     for i in indeces_list_lon:\n",
    "          k = i + 1\n",
    "          m = i - 1\n",
    "          average_longitudeDec = ( outliers.LongitudeDec[k] + outliers.LongitudeDec[m] ) / 2 \n",
    "          outliers.LongitudeDec[i] = average_longitudeDec\n",
    "          outliers.replaced[i] = True\n",
    "     #loop through latitude indices\n",
    "     for i in indeces_list_lat:\n",
    "          g = i + 1\n",
    "          f = i - 1\n",
    "          average_latitudeDec = ( outliers.LatitudeDec[g] + outliers.LatitudeDec[f] ) / 2 \n",
    "          outliers.LatitudeDec[i] = average_latitudeDec\n",
    "          outliers.replaced[i] = True\n",
    "     #create list of outlier indicies\n",
    "     indeces_list = []\n",
    "     indeces_list = indeces_list_lat + indeces_list_lon\n",
    "     to_be_merged_rows = outliers.loc[outliers[\"replaced\"] == True]\n",
    "     to_be_merged_rows = to_be_merged_rows.drop([\"Difference_up_lat\",\"Difference_up_lon\",\"Difference_down_lat\",\"Difference_down_lon\",\"middle_outlier_lat\",\"middle_outlier_lon\"],axis =1)\n",
    "     \n",
    "     df = df.drop([\"Difference_down_lat\", \"Difference_up_lat\", \"Difference_up_lon\", \"Difference_down_lon\"], axis =1)\n",
    "     df = df.drop(indeces_list)\n",
    "     df = df.append(to_be_merged_rows)\n",
    "     df = df.sort_index()\n",
    "     determine_outliers()\n",
    "\n",
    "print('x')"
   ]
  },
  {
   "cell_type": "code",
   "execution_count": null,
   "metadata": {},
   "outputs": [],
   "source": [
    "import_data()"
   ]
  },
  {
   "cell_type": "code",
   "execution_count": null,
   "metadata": {},
   "outputs": [],
   "source": []
  }
 ],
 "metadata": {
  "kernelspec": {
   "display_name": "Python 3",
   "language": "python",
   "name": "python3"
  },
  "language_info": {
   "codemirror_mode": {
    "name": "ipython",
    "version": 3
   },
   "file_extension": ".py",
   "mimetype": "text/x-python",
   "name": "python",
   "nbconvert_exporter": "python",
   "pygments_lexer": "ipython3",
   "version": "3.6.5"
  }
 },
 "nbformat": 4,
 "nbformat_minor": 2
}
