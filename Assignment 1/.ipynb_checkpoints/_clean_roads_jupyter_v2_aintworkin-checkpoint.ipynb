{
 "cells": [
  {
   "cell_type": "code",
   "execution_count": 312,
   "metadata": {},
   "outputs": [],
   "source": [
    "#whaooooo\n",
    "# import libraries\n",
    "import pandas as pd\n",
    "import html5lib\n",
    "import matplotlib.pyplot as plt\n",
    "import numpy as np\n",
    "\n",
    "global df\n",
    "global df_original\n",
    "global diff_cutoff\n",
    "global diff_cutoff_lat_dk\n",
    "global counter \n",
    "global road_cleaned\n",
    "\n",
    "counter = 0\n",
    "diff_cutoff_lon = 0\n",
    "diff_cutoff_lat = 0\n",
    "df = pd.DataFrame()\n",
    "df_original = pd.DataFrame()\n",
    "road_cleaned = pd.DataFrame()"
   ]
  },
  {
   "cell_type": "code",
   "execution_count": 313,
   "metadata": {},
   "outputs": [
    {
     "name": "stdout",
     "output_type": "stream",
     "text": [
      "x\n"
     ]
    }
   ],
   "source": [
    "def import_data():\n",
    "     # doing all files together\n",
    "     # read in htm file\n",
    "    roadnames = pd.read_csv('_roadnames_list_2.csv') # need to have roadnames list in same folder path ##adjusted for testing\n",
    "    roadnames_list = list(roadnames.columns.unique())\n",
    "    for roadname in roadnames_list:\n",
    "        filename = \"{}.lrps.htm\".format(roadname)\n",
    "        f =  open(filename, \"rb\")\n",
    "        list_road = pd.read_html(f, skiprows = 2) # check skip rows\n",
    "        df_road = list_road[-1] # check argument\n",
    "        f.close()\n",
    "        #original datafile\n",
    "        global df\n",
    "        df = df_road.iloc[:,1:7]\n",
    "        df.columns = [\"LRPNo\",\"RoadChainage\",\"LRPType\",\"Description\",\"LatitudeDec\",\"LongitudeDec\"]\n",
    "        df[\"Road\"] = roadname\n",
    "        #df = '{} = pd.DataFrame'.format(roadname)\n",
    "        #pd.to_numeric(df[\"LatitudeDec\"], downcast=\"integer\") #coerce as float\n",
    "        #pd.to_numeric(df[\"LongitudeDec\"], downcast=\"integer\") #coerce as float\n",
    "        global df_original\n",
    "        df_original = df\n",
    "        determine_outliers()\n",
    "        #find_grouped_lat_outliers()\n",
    "    road_cleaned.to_csv(\"cleaned_all_road_data.csv\", sep='\\t')\n",
    "print('x')"
   ]
  },
  {
   "cell_type": "code",
   "execution_count": 314,
   "metadata": {},
   "outputs": [
    {
     "name": "stdout",
     "output_type": "stream",
     "text": [
      "x\n"
     ]
    }
   ],
   "source": [
    "def plot_road(x):   \n",
    "    #plot the road with mistakes\n",
    "    plt.plot(x.LongitudeDec, x.LatitudeDec)\n",
    "    plt.title(\"Road\")\n",
    "    plt.xlabel(\"Longitude\")\n",
    "    plt.ylabel(\"Latitude\")\n",
    "    plt.show()\n",
    "print(\"x\")"
   ]
  },
  {
   "cell_type": "code",
   "execution_count": 315,
   "metadata": {},
   "outputs": [
    {
     "name": "stdout",
     "output_type": "stream",
     "text": [
      "x\n"
     ]
    }
   ],
   "source": [
    "def determine_outliers():\n",
    "    #Get the differences between up and down\n",
    "    global df\n",
    "    global counter\n",
    "    global diff_cutoff_lon\n",
    "    global diff_cutoff_lat\n",
    "    global road_cleaned\n",
    "    if counter < 4: \n",
    "        counter = counter + 1\n",
    "        #calculate the longitudeDec\n",
    "        df_diff_lon1 = [abs(df.LongitudeDec - df.LongitudeDec.shift(-1)) for row in df.LongitudeDec]\n",
    "        df_diff_lon2 = [abs(df.LongitudeDec - df.LongitudeDec.shift(1)) for row in df.LongitudeDec]\n",
    "        df[\"Difference_down_lon\"] = df_diff_lon1[0]\n",
    "        df[\"Difference_up_lon\"] = df_diff_lon2[0]\n",
    "        \n",
    "        #calculate the LatitudeDec\n",
    "        df_diff_lat1 = [abs(df.LatitudeDec - df.LatitudeDec.shift(-1)) for row in df.LatitudeDec]\n",
    "        df_diff_lat2 = [abs(df.LatitudeDec - df.LatitudeDec.shift(1)) for row in df.LatitudeDec]\n",
    "        df[\"Difference_down_lat\"] = df_diff_lat1[0]\n",
    "        df[\"Difference_up_lat\"] = df_diff_lat2[0]\n",
    "        \n",
    "        #determine the std and cut-off value\n",
    "        diff_lon_std = df.Difference_up_lon.std()\n",
    "        diff_lat_std = df.Difference_up_lat.std()\n",
    "        diff_cutoff_lon = (4*diff_lon_std)\n",
    "        diff_cutoff_lat = (4*diff_lat_std)\n",
    "        \n",
    "        #find outliers based on calculated differences between points\n",
    "        find_replace_outliers()\n",
    "    else:\n",
    "        counter = 0\n",
    "        road_cleaned = road_cleaned.append(df)\n",
    "\n",
    "print(\"x\")"
   ]
  },
  {
   "cell_type": "code",
   "execution_count": 316,
   "metadata": {},
   "outputs": [
    {
     "name": "stdout",
     "output_type": "stream",
     "text": [
      "x\n"
     ]
    }
   ],
   "source": [
    "def find_replace_outliers():\n",
    "    #select the outliers in a different dataframe\n",
    "    global df\n",
    "    outliers = pd.DataFrame()\n",
    "    outliers1 = df.loc[df[\"Difference_up_lon\"] > diff_cutoff_lon  ]\n",
    "    outliers2 = df.loc[df[\"Difference_down_lon\"] > diff_cutoff_lon  ]\n",
    "    outliers3 = df.loc[df[\"Difference_up_lat\"] > diff_cutoff_lat ]\n",
    "    outliers4 = df.loc[df[\"Difference_down_lat\"] > diff_cutoff_lat ]\n",
    "    #put outliers together\n",
    "    outliers = outliers.append(outliers1)\n",
    "    outliers = outliers.append(outliers2)\n",
    "    outliers = outliers.append(outliers3)\n",
    "    outliers = outliers.append(outliers4)\n",
    "    \n",
    "    outliers = outliers.drop_duplicates().sort_values(by=['LRPNo'])\n",
    "    outliers['middle_outlier_lon'] = np.where((outliers['Difference_up_lon'] > diff_cutoff_lon) & (outliers['Difference_down_lon'] > diff_cutoff_lon ), True,False)\n",
    "    outliers['middle_outlier_lat'] = np.where((outliers['Difference_up_lat'] > diff_cutoff_lat) & (outliers['Difference_down_lat'] > diff_cutoff_lat ), True,False)\n",
    "    \n",
    "    #average out the wrong values for the LongitudeDec\n",
    "    indeces_list_lon = outliers.index[outliers['middle_outlier_lon'] == True].tolist()\n",
    "    indeces_list_lat = outliers.index[outliers['middle_outlier_lat'] == True].tolist()\n",
    "    #create replaced column\n",
    "    outliers[\"replaced\"] = \"\"\n",
    "    #loop through longitude indices\n",
    "    for i in indeces_list_lon:\n",
    "        k = i + 1\n",
    "        m = i - 1\n",
    "        average_longitudeDec = ( outliers.LongitudeDec[k] + outliers.LongitudeDec[m] ) / 2\n",
    "        if average_longitudeDec > 0:\n",
    "            outliers.LongitudeDec[i] = average_longitudeDec\n",
    "            outliers.replaced[i] = True\n",
    "    #loop through latitude indices\n",
    "    for i in indeces_list_lat:\n",
    "        g = i + 1\n",
    "        f = i - 1\n",
    "        average_latitudeDec = ( outliers.LatitudeDec[g] + outliers.LatitudeDec[f] ) / 2 \n",
    "        if average_latitudeDec > 0:\n",
    "            outliers.LatitudeDec[i] = average_latitudeDec\n",
    "            outliers.replaced[i] = True\n",
    "    #create list of outlier indicies\n",
    "    indeces_list = []\n",
    "    indeces_list = indeces_list_lat + indeces_list_lon\n",
    "    to_be_merged_rows = outliers.loc[outliers[\"replaced\"] == True]\n",
    "    to_be_merged_rows = to_be_merged_rows.drop([\"Difference_up_lat\",\"Difference_up_lon\",\"Difference_down_lat\",\"Difference_down_lon\",\"middle_outlier_lat\",\"middle_outlier_lon\"],axis =1)\n",
    "    \n",
    "    df = df.drop([\"Difference_down_lat\", \"Difference_up_lat\", \"Difference_up_lon\", \"Difference_down_lon\"], axis =1)\n",
    "    df = df.drop(indeces_list)\n",
    "    df = df.append(to_be_merged_rows)\n",
    "    df = df.sort_index()\n",
    "    determine_outliers()\n",
    "\n",
    "print('x')"
   ]
  },
  {
   "cell_type": "code",
   "execution_count": 317,
   "metadata": {},
   "outputs": [
    {
     "name": "stdout",
     "output_type": "stream",
     "text": [
      "z\n"
     ]
    }
   ],
   "source": [
    "#if abs(lat[i+1] - lat[i]) > 0.1:\n",
    "#        lat[i+1] = lat[i]\n",
    "\n",
    "#TODO: Play around with this value\n",
    "cutoffPointMultiplier = 4\n",
    "dk = pd.DataFrame()\n",
    "def find_grouped_lat_outliers():\n",
    "    dk[\"Difference_down_lat\"] = \"\"\n",
    "    for i in range(1,len(dk)):\n",
    "        dk.Difference_down_lat[i] = abs(dk.LatitudeDec[i] - dk.LatitudeDec[i-1])\n",
    "\n",
    "    diff_lat_std = dk.Difference_down_lat.std()\n",
    "    diff_cutoff_lat = (cutoffPointMultiplier*diff_lat_std)\n",
    "\n",
    "    for i in range(1,len(dk)):\n",
    "        if dk.Difference_down_lat[i] > diff_cutoff_lat:\n",
    "            dk.LatitudeDec[i] = dk.LatitudeDec[i-1]\n",
    "\n",
    "print('z')"
   ]
  },
  {
   "cell_type": "code",
   "execution_count": 321,
   "metadata": {},
   "outputs": [
    {
     "name": "stdout",
     "output_type": "stream",
     "text": [
      "x\n"
     ]
    }
   ],
   "source": [
    "def drop_zeros():\n",
    "    #def filter_zeros():\n",
    "    # #Load in cleaned dataframe\n",
    "    road_cleaned_wzero = pd.read_csv(\"cleaned_all_road_data.csv\", sep = \"\\t\")\n",
    "    #select datapoints in certain scope \n",
    "    road_cleaned_wzero[\"zero_lon\"] = np.where(road_cleaned_wzero[\"LongitudeDec\"] < 10,True, False )\n",
    "    road_cleaned_wzero[\"zero_lat\"] = np.where(road_cleaned_wzero[\"LatitudeDec\"] < 10,True, False )\n",
    "    \n",
    "    #drop the faulty points\n",
    "    road_cleaned_wzero.drop(road_cleaned_wzero.loc[road_cleaned_wzero['zero_lon']==False].index, inplace=True)\n",
    "    road_cleaned_wzero.drop(road_cleaned_wzero.loc[road_cleaned_wzero['zero_lat']==False].index, inplace=True)\n",
    "    road_cleaned_wzero.to_csv(\"cleaned_all_road_data_nozero.csv\", sep='\\t')\n",
    "print('x')"
   ]
  },
  {
   "cell_type": "code",
   "execution_count": 319,
   "metadata": {},
   "outputs": [
    {
     "name": "stderr",
     "output_type": "stream",
     "text": [
      "/anaconda3/lib/python3.6/site-packages/ipykernel_launcher.py:30: SettingWithCopyWarning: \n",
      "A value is trying to be set on a copy of a slice from a DataFrame\n",
      "\n",
      "See the caveats in the documentation: http://pandas.pydata.org/pandas-docs/stable/indexing.html#indexing-view-versus-copy\n",
      "/anaconda3/lib/python3.6/site-packages/ipykernel_launcher.py:31: SettingWithCopyWarning: \n",
      "A value is trying to be set on a copy of a slice from a DataFrame\n",
      "\n",
      "See the caveats in the documentation: http://pandas.pydata.org/pandas-docs/stable/indexing.html#indexing-view-versus-copy\n",
      "/anaconda3/lib/python3.6/site-packages/ipykernel_launcher.py:38: SettingWithCopyWarning: \n",
      "A value is trying to be set on a copy of a slice from a DataFrame\n",
      "\n",
      "See the caveats in the documentation: http://pandas.pydata.org/pandas-docs/stable/indexing.html#indexing-view-versus-copy\n",
      "/anaconda3/lib/python3.6/site-packages/ipykernel_launcher.py:39: SettingWithCopyWarning: \n",
      "A value is trying to be set on a copy of a slice from a DataFrame\n",
      "\n",
      "See the caveats in the documentation: http://pandas.pydata.org/pandas-docs/stable/indexing.html#indexing-view-versus-copy\n",
      "/anaconda3/lib/python3.6/site-packages/pandas/core/frame.py:6201: FutureWarning: Sorting because non-concatenation axis is not aligned. A future version\n",
      "of pandas will change to not sort by default.\n",
      "\n",
      "To accept the future behavior, pass 'sort=True'.\n",
      "\n",
      "To retain the current behavior and silence the warning, pass sort=False\n",
      "\n",
      "  sort=sort)\n"
     ]
    }
   ],
   "source": [
    "import_data()"
   ]
  },
  {
   "cell_type": "code",
   "execution_count": 322,
   "metadata": {},
   "outputs": [],
   "source": [
    "drop_zeros()"
   ]
  },
  {
   "cell_type": "code",
   "execution_count": null,
   "metadata": {},
   "outputs": [],
   "source": [
    "plot_road(df)"
   ]
  },
  {
   "cell_type": "code",
   "execution_count": null,
   "metadata": {},
   "outputs": [],
   "source": []
  },
  {
   "cell_type": "code",
   "execution_count": null,
   "metadata": {},
   "outputs": [],
   "source": []
  }
 ],
 "metadata": {
  "kernelspec": {
   "display_name": "Python 3",
   "language": "python",
   "name": "python3"
  },
  "language_info": {
   "codemirror_mode": {
    "name": "ipython",
    "version": 3
   },
   "file_extension": ".py",
   "mimetype": "text/x-python",
   "name": "python",
   "nbconvert_exporter": "python",
   "pygments_lexer": "ipython3",
   "version": "3.6.8"
  }
 },
 "nbformat": 4,
 "nbformat_minor": 2
}
