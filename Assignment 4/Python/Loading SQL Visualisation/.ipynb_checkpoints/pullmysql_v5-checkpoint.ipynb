{
 "cells": [
  {
   "cell_type": "code",
   "execution_count": 32,
   "metadata": {},
   "outputs": [
    {
     "ename": "ModuleNotFoundError",
     "evalue": "No module named 'matplotlib'",
     "output_type": "error",
     "traceback": [
      "\u001b[0;31m---------------------------------------------------------------------------\u001b[0m",
      "\u001b[0;31mModuleNotFoundError\u001b[0m                       Traceback (most recent call last)",
      "\u001b[0;32m<ipython-input-32-18d9630ed354>\u001b[0m in \u001b[0;36m<module>\u001b[0;34m\u001b[0m\n\u001b[1;32m      4\u001b[0m \u001b[0;32mimport\u001b[0m \u001b[0mpandas\u001b[0m \u001b[0;32mas\u001b[0m \u001b[0mpd\u001b[0m\u001b[0;34m\u001b[0m\u001b[0m\n\u001b[1;32m      5\u001b[0m \u001b[0;32mimport\u001b[0m \u001b[0mnumpy\u001b[0m \u001b[0;32mas\u001b[0m \u001b[0mnp\u001b[0m\u001b[0;34m\u001b[0m\u001b[0m\n\u001b[0;32m----> 6\u001b[0;31m \u001b[0;32mimport\u001b[0m \u001b[0mmatplotlib\u001b[0m\u001b[0;34m.\u001b[0m\u001b[0mpyplot\u001b[0m \u001b[0;32mas\u001b[0m \u001b[0mplt\u001b[0m\u001b[0;34m\u001b[0m\u001b[0m\n\u001b[0m\u001b[1;32m      7\u001b[0m \u001b[0;34m\u001b[0m\u001b[0m\n\u001b[1;32m      8\u001b[0m \u001b[0;31m#import mySQL option 1\u001b[0m\u001b[0;34m\u001b[0m\u001b[0;34m\u001b[0m\u001b[0m\n",
      "\u001b[0;31mModuleNotFoundError\u001b[0m: No module named 'matplotlib'"
     ]
    }
   ],
   "source": [
    "#STEP 1: Import packages\n",
    "import datetime\n",
    "import time\n",
    "import pandas as pd\n",
    "import numpy as np\n",
    "import matplotlib.pyplot as plt\n",
    "\n",
    "#import mySQL option 1\n",
    "import mysql.connector\n",
    "\n",
    "#import mySQL option 2\n",
    "#import pymysql.cursors #only try this after running the \"python -m pip install PyMySQL\" "
   ]
  },
  {
   "cell_type": "code",
   "execution_count": 2,
   "metadata": {},
   "outputs": [],
   "source": [
    "#STEP 2: Setting the cnx\n",
    "#cnx for option 1\n",
    "cnx = mysql.connector.connect(user='epa1351g14', password='xgt65RR##', database='epa1351group14')\n",
    "#cnx for option 2\n",
    "#cnx = pymysql.connect(user='epa1351g14', password='xgt65RR##', database='epa1351group14')"
   ]
  },
  {
   "cell_type": "markdown",
   "metadata": {},
   "source": [
    "Definitions for dataframes"
   ]
  },
  {
   "cell_type": "code",
   "execution_count": 3,
   "metadata": {},
   "outputs": [],
   "source": [
    "#STEP 3a: Definition for reading in dataframe of segmenttraveltimes\n",
    "def read_stt_sql(cnx):\n",
    "    cursor = cnx.cursor()\n",
    "   \n",
    "    query_stt = (\"SELECT * from segmenttraveltimes ORDER BY RowID2\")\n",
    "    segmenttraveltimes = pd.read_sql(query_stt,cnx)\n",
    "    \n",
    "    return segmenttraveltimes"
   ]
  },
  {
   "cell_type": "code",
   "execution_count": 4,
   "metadata": {},
   "outputs": [],
   "source": [
    "#STEP 3b: Definition for reading in dataframe of brokenbridges\n",
    "def read_bb_sql(cnx):\n",
    "    cursor = cnx.cursor()\n",
    "\n",
    "    query_bb = (\"SELECT * from brokenbridges ORDER BY RowID3\")\n",
    "    brokenbridges = pd.read_sql(query_bb,cnx)\n",
    "    \n",
    "    return brokenbridges"
   ]
  },
  {
   "cell_type": "markdown",
   "metadata": {},
   "source": [
    "Definitions for visualizations"
   ]
  },
  {
   "cell_type": "code",
   "execution_count": 28,
   "metadata": {},
   "outputs": [],
   "source": [
    "#Outside of while loop\n",
    "traveltimelist = list()"
   ]
  },
  {
   "cell_type": "code",
   "execution_count": 29,
   "metadata": {},
   "outputs": [],
   "source": [
    "def movingaverage(segmenttraveltimes):\n",
    "    traveltimelist.append(segmenttraveltimes.SegTime.sum()/len(segmenttraveltimes))\n",
    "    traveltimelistx = list(range(1,len(traveltimelist)+1))\n",
    "    x = traveltimelistx\n",
    "    y = traveltimelist\n",
    "    #plt.plot(x, y)\n",
    "    #return plt.show()\n",
    "    return x , y "
   ]
  },
  {
   "cell_type": "code",
   "execution_count": null,
   "metadata": {},
   "outputs": [],
   "source": [
    "segmenttraveltimes.groupby(['LRPName','VehicleType'])['SegTime'].sum().unstack().plot(kind='bar', stacked=True)\n",
    "plt.legend(bbox_to_anchor=(1.1, 1.05))"
   ]
  },
  {
   "cell_type": "code",
   "execution_count": null,
   "metadata": {},
   "outputs": [],
   "source": [
    "segments = segmenttraveltimes.LRPName.unique()\n",
    "vehicles = segmenttraveltimes.VehicleType.unique()\n",
    "segmentdict = {}\n",
    "for segment in segments:\n",
    "   df = segmenttraveltimes[segmenttraveltimes.LRPName == segment]\n",
    "   vehicledict = {}\n",
    "   for vehicle in vehicles:\n",
    "       df2 = df[df.VehicleType == vehicle]\n",
    "       segtimepervehicle = df2.SegTime.sum()\n",
    "       vehicledict[vehicle] = segtimepervehicle\n",
    "   segmentdict[segment] = vehicledict\n",
    "df = pd.DataFrame(segmentdict)\n",
    "df.plot(kind=\"bar\", stacked=True)\n",
    "plt.legend(bbox_to_anchor=(1.1, 1.05))\n",
    "plt.show()"
   ]
  },
  {
   "cell_type": "code",
   "execution_count": null,
   "metadata": {},
   "outputs": [],
   "source": [
    "bridgesbrokendown = brokenbridges.BridgeID.unique()\n",
    "bridges = pd.read_csv('Bridge_data_with_link_to_traffic.csv')\n",
    "shape = gpd.read_file('bgd_admbnda_adm0_bbs_20180410/bgd_admbnda_adm0_bbs_20180410.shp')\n",
    "bridges=bridges[bridges['road']=='N1']\n",
    "# Make coordinates from the latitude and longitude\n",
    "bridges['Coordinates'] = list(zip(bridges.lon, bridges.lat))\n",
    "bridges['Coordinates'] = bridges['Coordinates'].apply(Point)\n",
    "bridges = GeoDataFrame(bridges, geometry='Coordinates')\n",
    "shape.crs = {'init': 'epsg:4326'}\n",
    "bridges.crs = {'init': 'epsg:4326'}\n",
    "fig, ax = plt.subplots(1, figsize=(3.5,7))\n",
    "base = shape.plot(ax=ax, color='#DCDCDC')\n",
    "bridges.plot(ax=base, marker='o', alpha=0.5, color = 'green', markersize = 1)\n",
    "brokenbridges = bridges[bridges.LRPName.isin(bridgesbrokendown)]\n",
    "brokenbridges.plot(ax=base, marker = 'o', alpha = 0.5, color = 'red', markersize = 100)\n",
    "#bridges.plot(markersize=bridges['size'])\n",
    "ax.set_title(\"Bridges broken down in red\")"
   ]
  },
  {
   "cell_type": "markdown",
   "metadata": {},
   "source": [
    "Definition for the updating visualisations"
   ]
  },
  {
   "cell_type": "code",
   "execution_count": 30,
   "metadata": {},
   "outputs": [],
   "source": [
    "#STEP 5: Definition to update all the visualisations\n",
    "def wait_for_sql():\n",
    "    last_rowid = -1\n",
    "    while True:\n",
    "        #cnx for option 1\n",
    "        cnx = mysql.connector.connect(user='epa1351g14', password='xgt65RR##', database='epa1351group14')\n",
    "        #cnx for option 2\n",
    "        #cnx = pymysql.connect(user='epa1351g14', password='xgt65RR##', database='epa1351group14')\n",
    "        cursor = cnx.cursor()\n",
    "        \n",
    "        #selecting the latest row in hourlyupdate table\n",
    "        query = (\"SELECT * from hourlyupdate ORDER BY RowID1 DESC LIMIT 1\")\n",
    "        cursor.execute(query)\n",
    "#for loop searching for a new row in the hourlyupdate table        \n",
    "        for (RowID1, SimioHour) in cursor:\n",
    "            if RowID1 > last_rowid:\n",
    "                read_stt_sql(cnx)\n",
    "                segmenttraveltimes = read_stt_sql(cnx)\n",
    "                \n",
    "                read_bb_sql(cnx)\n",
    "                brokenbridges = read_bb_sql(cnx)\n",
    "                \n",
    "                movingaverage(segmenttraveltimes)\n",
    "                print(\"Last ROWID1:\",RowID1,'SimioHour is:',SimioHour)\n",
    "                print(segmenttraveltimes)\n",
    "                last_rowid = RowID1\n",
    "        time.sleep(1)"
   ]
  },
  {
   "cell_type": "code",
   "execution_count": 31,
   "metadata": {
    "scrolled": true
   },
   "outputs": [
    {
     "name": "stdout",
     "output_type": "stream",
     "text": [
      "Last ROWID1: 2 SimioHour is: 3.0\n",
      "   RowID2 LRPName VehicleType  SegTime\n",
      "0       1       2       Truck      2.0\n",
      "1       2       4         Car      5.0\n",
      "2       3       5       Truck      2.0\n",
      "([1], [3.0])\n",
      "Last ROWID1: 3 SimioHour is: 4.0\n",
      "   RowID2 LRPName VehicleType  SegTime\n",
      "0       1       2       Truck      2.0\n",
      "1       2       4         Car      5.0\n",
      "2       3       5       Truck      2.0\n",
      "3       4       4       Truck     10.0\n",
      "([1, 2], [3.0, 4.75])\n"
     ]
    },
    {
     "ename": "KeyboardInterrupt",
     "evalue": "",
     "output_type": "error",
     "traceback": [
      "\u001b[0;31m---------------------------------------------------------------------------\u001b[0m",
      "\u001b[0;31mKeyboardInterrupt\u001b[0m                         Traceback (most recent call last)",
      "\u001b[0;32m<ipython-input-31-da480af6f29a>\u001b[0m in \u001b[0;36m<module>\u001b[0;34m\u001b[0m\n\u001b[0;32m----> 1\u001b[0;31m \u001b[0mwait_for_sql\u001b[0m\u001b[0;34m(\u001b[0m\u001b[0;34m)\u001b[0m\u001b[0;34m\u001b[0m\u001b[0m\n\u001b[0m",
      "\u001b[0;32m<ipython-input-30-3f5e6e6f06cf>\u001b[0m in \u001b[0;36mwait_for_sql\u001b[0;34m()\u001b[0m\n\u001b[1;32m     25\u001b[0m                 \u001b[0mprint\u001b[0m\u001b[0;34m(\u001b[0m\u001b[0mmovingaverage\u001b[0m\u001b[0;34m(\u001b[0m\u001b[0msegmenttraveltimes\u001b[0m\u001b[0;34m)\u001b[0m\u001b[0;34m)\u001b[0m\u001b[0;34m\u001b[0m\u001b[0m\n\u001b[1;32m     26\u001b[0m                 \u001b[0mlast_rowid\u001b[0m \u001b[0;34m=\u001b[0m \u001b[0mRowID1\u001b[0m\u001b[0;34m\u001b[0m\u001b[0m\n\u001b[0;32m---> 27\u001b[0;31m         \u001b[0mtime\u001b[0m\u001b[0;34m.\u001b[0m\u001b[0msleep\u001b[0m\u001b[0;34m(\u001b[0m\u001b[0;36m1\u001b[0m\u001b[0;34m)\u001b[0m\u001b[0;34m\u001b[0m\u001b[0m\n\u001b[0m",
      "\u001b[0;31mKeyboardInterrupt\u001b[0m: "
     ]
    }
   ],
   "source": [
    "wait_for_sql()"
   ]
  }
 ],
 "metadata": {
  "kernelspec": {
   "display_name": "Python 3",
   "language": "python",
   "name": "python3"
  },
  "language_info": {
   "codemirror_mode": {
    "name": "ipython",
    "version": 3
   },
   "file_extension": ".py",
   "mimetype": "text/x-python",
   "name": "python",
   "nbconvert_exporter": "python",
   "pygments_lexer": "ipython3",
   "version": "3.6.6"
  }
 },
 "nbformat": 4,
 "nbformat_minor": 2
}
