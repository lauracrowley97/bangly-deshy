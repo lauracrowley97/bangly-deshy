{
 "cells": [
  {
   "cell_type": "code",
   "execution_count": 2,
   "metadata": {},
   "outputs": [],
   "source": [
    "#STEP 1: Import packages\n",
    "import datetime\n",
    "import time\n",
    "import pandas as pd\n",
    "import numpy as np\n",
    "import matplotlib.pyplot as plt\n",
    "\n",
    "#import mySQL option 1\n",
    "import mysql.connector\n",
    "\n",
    "#import mySQL option 2\n",
    "#import pymysql.cursors #only try this after running the \"python -m pip install PyMySQL\" "
   ]
  },
  {
   "cell_type": "code",
   "execution_count": 3,
   "metadata": {},
   "outputs": [],
   "source": [
    "#STEP 2: Setting the cnx\n",
    "#cnx for option 1\n",
    "cnx = mysql.connector.connect(user='epa1351g14', password='xgt65RR##', database='epa1351group14')\n",
    "#cnx for option 2\n",
    "#cnx = pymysql.connect(user='epa1351g14', password='xgt65RR##', database='epa1351group14')"
   ]
  },
  {
   "cell_type": "markdown",
   "metadata": {},
   "source": [
    "Definitions for dataframes"
   ]
  },
  {
   "cell_type": "code",
   "execution_count": 4,
   "metadata": {},
   "outputs": [],
   "source": [
    "#STEP 3a: Definition for reading in dataframe of segmenttraveltimes\n",
    "def read_stt_sql(cnx):\n",
    "    cursor = cnx.cursor()\n",
    "   \n",
    "    query_stt = (\"SELECT * from segmenttraveltimes ORDER BY RowID2\")\n",
    "    segmenttraveltimes = pd.read_sql(query_stt,cnx)\n",
    "    \n",
    "    return segmenttraveltimes"
   ]
  },
  {
   "cell_type": "code",
   "execution_count": 5,
   "metadata": {},
   "outputs": [],
   "source": [
    "#STEP 3b: Definition for reading in dataframe of brokenbridges\n",
    "def read_bb_sql(cnx):\n",
    "    cursor = cnx.cursor()\n",
    "\n",
    "    query_bb = (\"SELECT * from brokenbridges ORDER BY RowID3\")\n",
    "    brokenbridges = pd.read_sql(query_bb,cnx)\n",
    "    \n",
    "    return brokenbridges"
   ]
  },
  {
   "cell_type": "markdown",
   "metadata": {},
   "source": [
    "Definitions for visualizations"
   ]
  },
  {
   "cell_type": "code",
   "execution_count": null,
   "metadata": {},
   "outputs": [],
   "source": [
    "LN1 = list()\n",
    "LDC = list()\n",
    "N1DC = pd.read_csv('Data_clean_N1_Dhaka_Chittagong_new.csv')\n",
    "LRPsDhakaChittagong = list(N1DC.LRPName.unique()"
   ]
  },
  {
   "cell_type": "code",
   "execution_count": 14,
   "metadata": {},
   "outputs": [],
   "source": [
    "def movingaverage(segmenttraveltimes):\n",
    "    dfma = segmenttraveltimes[segmenttraveltimes.LRPName.isin(LRPsDhakaChittagong)]\n",
    "    LN1.append(segmenttraveltimes.SegTime.sum()/len(segmenttraveltimes))\n",
    "    LDC.append(dfma.SegTime.sum()/len(dfma))\n",
    "    LN1x = list(range(1,len(LN1)+1))\n",
    "    LDCx = list(range(1,len(LDC)+1))\n",
    "\n",
    "    plt.plot(LN1x, LN1)\n",
    "    plt.plot(LDCx, LDC)\n",
    "    plt.show()\n",
    "    return x,y"
   ]
  },
  {
   "cell_type": "code",
   "execution_count": null,
   "metadata": {},
   "outputs": [],
   "source": [
    "def vehicletypes(segmenttraveltimes):\n",
    "    segmenttraveltimes.groupby(['LRPName','VehicleType'])['SegTime'].sum().unstack().plot(kind='bar', stacked=True)\n",
    "    plt.legend(bbox_to_anchor=(1.1, 1.05))\n",
    "    plt.show()\n",
    "    return"
   ]
  },
  {
   "cell_type": "code",
   "execution_count": null,
   "metadata": {},
   "outputs": [],
   "source": [
    "def \n",
    "segments = segmenttraveltimes.LRPName.unique()\n",
    "vehicles = segmenttraveltimes.VehicleType.unique()\n",
    "segmentdict = {}\n",
    "for segment in segments:\n",
    "   df = segmenttraveltimes[segmenttraveltimes.LRPName == segment]\n",
    "   vehicledict = {}\n",
    "   for vehicle in vehicles:\n",
    "       df2 = df[df.VehicleType == vehicle]\n",
    "       segtimepervehicle = df2.SegTime.sum()\n",
    "       vehicledict[vehicle] = segtimepervehicle\n",
    "   segmentdict[segment] = vehicledict\n",
    "df = pd.DataFrame(segmentdict)\n",
    "df.plot(kind=\"bar\", stacked=True)\n",
    "plt.legend(bbox_to_anchor=(1.1, 1.05))\n",
    "plt.show()"
   ]
  },
  {
   "cell_type": "code",
   "execution_count": null,
   "metadata": {},
   "outputs": [],
   "source": [
    "bridgesbrokendown = brokenbridges.BridgeID.unique()\n",
    "bridges = pd.read_csv('Bridge_data_with_link_to_traffic.csv')\n",
    "shape = gpd.read_file('bgd_admbnda_adm0_bbs_20180410/bgd_admbnda_adm0_bbs_20180410.shp')\n",
    "bridges=bridges[bridges['road']=='N1']\n",
    "# Make coordinates from the latitude and longitude\n",
    "bridges['Coordinates'] = list(zip(bridges.lon, bridges.lat))\n",
    "bridges['Coordinates'] = bridges['Coordinates'].apply(Point)\n",
    "bridges = GeoDataFrame(bridges, geometry='Coordinates')\n",
    "shape.crs = {'init': 'epsg:4326'}\n",
    "bridges.crs = {'init': 'epsg:4326'}\n",
    "fig, ax = plt.subplots(1, figsize=(3.5,7))\n",
    "base = shape.plot(ax=ax, color='#DCDCDC')\n",
    "bridges.plot(ax=base, marker='o', alpha=0.5, color = 'green', markersize = 1)\n",
    "brokenbridges = bridges[bridges.LRPName.isin(bridgesbrokendown)]\n",
    "brokenbridges.plot(ax=base, marker = 'o', alpha = 0.5, color = 'red', markersize = 100)\n",
    "#bridges.plot(markersize=bridges['size'])\n",
    "ax.set_title(\"Bridges broken down in red\")"
   ]
  },
  {
   "cell_type": "markdown",
   "metadata": {},
   "source": [
    "Definition for the updating visualisations"
   ]
  },
  {
   "cell_type": "code",
   "execution_count": 15,
   "metadata": {},
   "outputs": [],
   "source": [
    "#STEP 5: Definition to update all the visualisations\n",
    "def wait_for_sql():\n",
    "    last_rowid = -1\n",
    "    while True:\n",
    "        #cnx for option 1\n",
    "        cnx = mysql.connector.connect(user='epa1351g14', password='xgt65RR##', database='epa1351group14')\n",
    "        #cnx for option 2\n",
    "        #cnx = pymysql.connect(user='epa1351g14', password='xgt65RR##', database='epa1351group14')\n",
    "        cursor = cnx.cursor()\n",
    "        \n",
    "        #selecting the latest row in hourlyupdate table\n",
    "        query = (\"SELECT * from hourlyupdate ORDER BY RowID1 DESC LIMIT 1\")\n",
    "        cursor.execute(query)\n",
    "#for loop searching for a new row in the hourlyupdate table        \n",
    "        for (RowID1, SimioHour) in cursor:\n",
    "            if RowID1 > last_rowid:\n",
    "                read_stt_sql(cnx)\n",
    "                segmenttraveltimes = read_stt_sql(cnx)\n",
    "                \n",
    "                read_bb_sql(cnx)\n",
    "                brokenbridges = read_bb_sql(cnx)\n",
    "                \n",
    "                movingaverage(segmenttraveltimes)\n",
    "                last_rowid = RowID1\n",
    "        time.sleep(1)"
   ]
  },
  {
   "cell_type": "code",
   "execution_count": null,
   "metadata": {
    "scrolled": true
   },
   "outputs": [
    {
     "data": {
      "image/png": "[encoded data removed]",
      "text/plain": [
       "<Figure size 432x288 with 1 Axes>"
      ]
     },
     "metadata": {
      "needs_background": "light"
     },
     "output_type": "display_data"
    },
    {
     "data": {
      "image/png": "[encoded data removed]",
      "text/plain": [
       "<Figure size 432x288 with 1 Axes>"
      ]
     },
     "metadata": {
      "needs_background": "light"
     },
     "output_type": "display_data"
    }
   ],
   "source": [
    "wait_for_sql()"
   ]
  },
  {
   "cell_type": "code",
   "execution_count": null,
   "metadata": {},
   "outputs": [],
   "source": []
  }
 ],
 "metadata": {
  "kernelspec": {
   "display_name": "Python 3",
   "language": "python",
   "name": "python3"
  },
  "language_info": {
   "codemirror_mode": {
    "name": "ipython",
    "version": 3
   },
   "file_extension": ".py",
   "mimetype": "text/x-python",
   "name": "python",
   "nbconvert_exporter": "python",
   "pygments_lexer": "ipython3",
   "version": "3.6.6"
  }
 },
 "nbformat": 4,
 "nbformat_minor": 2
}
