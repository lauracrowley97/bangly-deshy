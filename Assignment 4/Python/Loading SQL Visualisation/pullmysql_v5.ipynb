{
 "cells": [
  {
   "cell_type": "code",
   "execution_count": null,
   "metadata": {},
   "outputs": [],
   "source": [
    "#STEP 1: Import packages\n",
    "import datetime\n",
    "import time\n",
    "import pandas as pd\n",
    "\n",
    "#import mySQL option 1\n",
    "import mysql.connector\n",
    "\n",
    "#import mySQL option 2\n",
    "#import pymysql.cursors #only try this after running the \"python -m pip install PyMySQL\" "
   ]
  },
  {
   "cell_type": "code",
   "execution_count": null,
   "metadata": {},
   "outputs": [],
   "source": [
    "#STEP 2: Setting the cnx\n",
    "#cnx for option 1\n",
    "cnx = mysql.connector.connect(user='epa1351g14', password='xgt65RR##', database='epa1351group14')\n",
    "#cnx for option 2\n",
    "#cnx = pymysql.connect(user='epa1351g14', password='xgt65RR##', database='epa1351group14')"
   ]
  },
  {
   "cell_type": "code",
   "execution_count": null,
   "metadata": {},
   "outputs": [],
   "source": [
    "#STEP 3a: Definition for reading in dataframe of segmenttraveltimes\n",
    "def read_stt_sql(cnx):\n",
    "    cursor = cnx.cursor()\n",
    "   \n",
    "    query_stt = (\"SELECT * from segmenttraveltimes ORDER BY RowID2\")\n",
    "    segmenttraveltimes = pd.read_sql(query_stt,cnx)\n",
    "    \n",
    "    return segmenttraveltimes"
   ]
  },
  {
   "cell_type": "code",
   "execution_count": null,
   "metadata": {},
   "outputs": [],
   "source": [
    "#STEP 3b: Definition for reading in dataframe of brokenbridges\n",
    "def read_bb_sql(cnx):\n",
    "    cursor = cnx.cursor()\n",
    "\n",
    "    query_bb = (\"SELECT * from brokenbridges ORDER BY RowID3\")\n",
    "    brokenbridges = pd.read_sql(query_bb,cnx)\n",
    "    \n",
    "    return brokenbridges"
   ]
  },
  {
   "cell_type": "code",
   "execution_count": null,
   "metadata": {},
   "outputs": [],
   "source": [
    "#STEP 4: Definition for visualisations\n",
    "def make_plots(segmenttraveltimes, brokenbridges):\n",
    "    x == 1\n",
    "    return x\n",
    "# make the plots here"
   ]
  },
  {
   "cell_type": "code",
   "execution_count": null,
   "metadata": {},
   "outputs": [],
   "source": [
    "#STEP 5: Definition to update all the visualisations\n",
    "def wait_for_sql():\n",
    "    last_rowid = -1\n",
    "    while True:\n",
    "        #cnx for option 1\n",
    "        cnx = mysql.connector.connect(user='epa1351g14', password='xgt65RR##', database='epa1351group14')\n",
    "        #cnx for option 2\n",
    "        #cnx = pymysql.connect(user='epa1351g14', password='xgt65RR##', database='epa1351group14')\n",
    "        cursor = cnx.cursor()\n",
    "        \n",
    "        #selecting the latest row in hourlyupdate table\n",
    "        query = (\"SELECT * from hourlyupdate ORDER BY RowID1 DESC LIMIT 1\")\n",
    "        cursor.execute(query)\n",
    "#for loop searching for a new row in the hourlyupdate table        \n",
    "        for (RowID1, SimioHour) in cursor:\n",
    "            if RowID1 > last_rowid:\n",
    "                \n",
    "                #read_bb_sql(cnx)\n",
    "                #make_plots()\n",
    "                print(\"Last ROWID1:\",RowID1,'SimioHour is:',SimioHour)\n",
    "                print(read_stt_sql(cnx))\n",
    "                last_rowid = RowID1\n",
    "        time.sleep(1)"
   ]
  },
  {
   "cell_type": "code",
   "execution_count": null,
   "metadata": {
    "scrolled": false
   },
   "outputs": [],
   "source": [
    "wait_for_sql()"
   ]
  }
 ],
 "metadata": {
  "kernelspec": {
   "display_name": "Python 3",
   "language": "python",
   "name": "python3"
  },
  "language_info": {
   "codemirror_mode": {
    "name": "ipython",
    "version": 3
   },
   "file_extension": ".py",
   "mimetype": "text/x-python",
   "name": "python",
   "nbconvert_exporter": "python",
   "pygments_lexer": "ipython3",
   "version": "3.6.6"
  }
 },
 "nbformat": 4,
 "nbformat_minor": 2
}
