{
 "cells": [
  {
   "cell_type": "code",
   "execution_count": null,
   "metadata": {},
   "outputs": [],
   "source": [
    "import datetime\n",
    "import mysql.connector # try this first for option 1\n",
    "#import pymysql.cursors # only try this after running the \"python -m pip install PyMySQL\" for option 2"
   ]
  },
  {
   "cell_type": "code",
   "execution_count": null,
   "metadata": {},
   "outputs": [],
   "source": [
    "## MySQL Option 1\n",
    "cnx = mysql.connector.connect(user='epa1351g14', password='xgt65RR##', database='epa1351group14')\n",
    "cursor = cnx.cursor()\n",
    "query = (\"SELECT RowID, EntityName, EntityTimeCreated, EntityID from testreadwrite\")\n",
    "cursor.execute(query)\n",
    "for (RowID, EntityName, EntityTimeCreated, EntityID) in cursor:\n",
    "    print(\"{} {} {:%d %b %Y} {}\".format(RowID, EntityName, EntityTimeCreated, EntityID))"
   ]
  },
  {
   "cell_type": "code",
   "execution_count": null,
   "metadata": {},
   "outputs": [],
   "source": [
    "## PyMySQL Option 2\n",
    "# cnx = pymysql.connect(user='epa1351g14', password='xgt65RR##', database='epa1351group14')\n",
    "# cursor = cnx.cursor()\n",
    "# query = (\"SELECT RowID, EntityName, EntityTimeCreated, EntityID from testreadwrite\")\n",
    "# cursor.execute(query)\n",
    "# for (RowID, EntityName, EntityTimeCreated, EntityID) in cursor:\n",
    "#     print(\"{} {} {:%d %b %Y} {}\".format(RowID, EntityName, EntityTimeCreated, EntityID))"
   ]
  },
  {
   "cell_type": "code",
   "execution_count": null,
   "metadata": {},
   "outputs": [],
   "source": []
  }
 ],
 "metadata": {
  "kernelspec": {
   "display_name": "Python 3",
   "language": "python",
   "name": "python3"
  },
  "language_info": {
   "codemirror_mode": {
    "name": "ipython",
    "version": 3
   },
   "file_extension": ".py",
   "mimetype": "text/x-python",
   "name": "python",
   "nbconvert_exporter": "python",
   "pygments_lexer": "ipython3",
   "version": "3.6.8"
  }
 },
 "nbformat": 4,
 "nbformat_minor": 2
}
