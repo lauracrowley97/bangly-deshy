{
 "cells": [
  {
   "cell_type": "code",
   "execution_count": 29,
   "metadata": {},
   "outputs": [],
   "source": [
    "## Data Preparation File\n",
    "## Group 14"
   ]
  },
  {
   "cell_type": "code",
   "execution_count": 30,
   "metadata": {},
   "outputs": [],
   "source": [
    "import pandas as pd\n",
    "import numpy as np\n",
    "import matplotlib.pyplot as plt"
   ]
  },
  {
   "cell_type": "code",
   "execution_count": 31,
   "metadata": {},
   "outputs": [],
   "source": [
    "# Load in data files\n",
    "# load in road file\n",
    "roads = pd.read_csv('_roads3.csv')\n",
    "# load in bridge file\n",
    "bridges = pd.read_excel('BMMS_overview.xlsx')"
   ]
  },
  {
   "cell_type": "code",
   "execution_count": 32,
   "metadata": {},
   "outputs": [],
   "source": [
    "# Create list of all roadnames\n",
    "# from road file\n",
    "road_list = list(roads.road.unique())\n",
    "road_list.sort()"
   ]
  },
  {
   "cell_type": "code",
   "execution_count": 33,
   "metadata": {},
   "outputs": [],
   "source": [
    "# EDIT THIS LIST OF ROADS IF YOU DON'T WANT TO LOAD IN ALL THE ROAD FILES!\n",
    "# road_list = road_list[1:3]\n",
    "# road_list"
   ]
  },
  {
   "cell_type": "code",
   "execution_count": 34,
   "metadata": {},
   "outputs": [],
   "source": [
    "# Prep road file\n",
    "def prep_road(roadname):\n",
    "# road data\n",
    "    data_fr = roads[roads['road'] == roadname]\n",
    "    data_fr = data_fr[['road','lrp','lat','lon','chainage']] # subset desired columns\n",
    "    data_fr[\"RLRPN\"] = data_fr.road+data_fr.lrp\n",
    "    data_fr.columns = ['Road','LRPName','Lat','Lon','Chainage',\"RLRPN\"]\n",
    "    return data_fr"
   ]
  },
  {
   "cell_type": "code",
   "execution_count": 35,
   "metadata": {},
   "outputs": [],
   "source": [
    "# Prep bridge file\n",
    "def prep_bridge(roadname):\n",
    "# bridge data\n",
    "    data_fb = bridges[bridges['road'] == roadname]\n",
    "    if len(data_fb) > 0:\n",
    "        data_fb = data_fb.dropna(subset =['width']) # drop duplicates\n",
    "        data_fb = data_fb[['road','LRPName','name','chainage','length','condition','lat','lon']] # subset columns\n",
    "        data_fb[\"RLRPN\"] = data_fb.road+data_fb.LRPName\n",
    "        data_fb.columns = ['Road','LRPName','Description','Chainage','Length','Cat','Lat','Lon',\"RLRPN\"]\n",
    "        data_fb = data_fb.sort_values(by = ['Chainage','RLRPN'])\n",
    "        data_fb = data_fb.reset_index(drop = True)\n",
    "        return data_fb\n",
    "    else:\n",
    "        data_fb = data_fb[['road','LRPName','name','chainage','length','condition','lat','lon']] # subset columns\n",
    "        data_fb[\"RLRPN\"] = data_fb.road+data_fb.LRPName\n",
    "        data_fb.columns = ['Road','LRPName','Description','Chainage','Length','Cat','Lat','Lon',\"RLRPN\"]\n",
    "        return data_fb"
   ]
  },
  {
   "cell_type": "code",
   "execution_count": 36,
   "metadata": {},
   "outputs": [],
   "source": [
    "# Clean duplicate L/R briges before merge\n",
    "# where LRPName is the same, compare Cat and drop the lower one (if Cat same, drop second one)\n",
    "def clean_lr(data_fb):\n",
    "    if len(data_fb) > 0:\n",
    "        for i in range(len(data_fb)):\n",
    "            if i < len(data_fb)-1:\n",
    "                if data_fb.RLRPN.iloc[i,] == data_fb.RLRPN.iloc[i+1,]:\n",
    "#                     print(\"same LRP\")\n",
    "                    if data_fb.Cat.iloc[i,] == data_fb.Cat.iloc[i+1,]:\n",
    "#                         print(\"same Cat dropped second entry by default\")\n",
    "                        data_fb.drop(data_fb.index[i+1], inplace = True)\n",
    "                    elif data_fb.Cat.iloc[i,] < data_fb.Cat.iloc[i+1,]:\n",
    "#                         print(\"first Cat greater dropped second entry\")\n",
    "                        data_fb.drop(data_fb.index[i+1], inplace = True)\n",
    "                    elif data_fb.Cat.iloc[i,] > data_fb.Cat.iloc[i+1,]:\n",
    "#                         print(\"second Cat greater dropped first entry\")\n",
    "                        data_fb.drop(data_fb.index[i], inplace = True)\n",
    "                    else:\n",
    "                        pass\n",
    "                else:\n",
    "                    pass\n",
    "            else:\n",
    "                pass\n",
    "        return data_fb\n",
    "    else:\n",
    "        return data_fb"
   ]
  },
  {
   "cell_type": "code",
   "execution_count": 37,
   "metadata": {
    "scrolled": true
   },
   "outputs": [],
   "source": [
    "# Join road and bridge files\n",
    "def join_roadbridge(data_fb, data_fr):\n",
    "    data = data_fr.append(data_fb, ignore_index = True, sort = False)\n",
    "    data = data.sort_values(by = ['RLRPN']) \n",
    "    data = data.reset_index(drop = True)\n",
    "    return data"
   ]
  },
  {
   "cell_type": "code",
   "execution_count": 38,
   "metadata": {},
   "outputs": [],
   "source": [
    "# Clean duplicate LRP Numbers between road and bridge files\n",
    "# there are cases where within the same km there is both a bridge and a non-bridge LRP, drop the non bridge ones\n",
    "def bridge_priority(data):\n",
    "    for i in range(len(data)):\n",
    "        if i < len(data)-1:\n",
    "            if data.RLRPN.iloc[i,] == data.RLRPN.iloc[i+1,]:\n",
    "#                 print(\"same LRP\")\n",
    "                if data.Description.iloc[i,] == \"\":\n",
    "#                     print(\"des null, is road point, drop it\")\n",
    "                    data.drop(data.index[i], inplace = True)\n",
    "                elif data.Description.iloc[i,] != \"\":\n",
    "#                     print(\"des exists, is bridge point, drop other one\")\n",
    "                    data.drop(data.index[i+1], inplace = True)\n",
    "                else:\n",
    "                    pass\n",
    "            else:\n",
    "                pass\n",
    "        else:\n",
    "            pass\n",
    "    return data"
   ]
  },
  {
   "cell_type": "code",
   "execution_count": 39,
   "metadata": {},
   "outputs": [],
   "source": [
    "# Set up columns for simio\n",
    "def simio_columns(data):\n",
    "#     Set up Node Name column\n",
    "    data = data.sort_values(by = ['Chainage','RLRPN'])\n",
    "    data = data.reset_index(drop = True)\n",
    "    data[\"Next Node\"] = data.RLRPN.shift(-1)\n",
    "    data.loc[data.RLRPN.str.contains(\"LRPE\", case = False), \"Next Node\"] = \"PreRome\"\n",
    "    \n",
    "#     Set up Add On Process column\n",
    "    data.loc[data.Length.notnull(), \"Add On Process\"] = \"BridgesDelay\"\n",
    "    data.loc[data.Length.isnull(), \"Add On Process\"] = \"BlankProcess\"\n",
    "    \n",
    "#     Replace NAN with 0\n",
    "    data = data.fillna(0)\n",
    "    return data"
   ]
  },
  {
   "cell_type": "code",
   "execution_count": 40,
   "metadata": {},
   "outputs": [],
   "source": [
    "# Save result\n",
    "def save_for_simio(data_out):\n",
    "    data_out.to_csv(\"data_clean_all.csv\", sep=',')"
   ]
  },
  {
   "cell_type": "code",
   "execution_count": 41,
   "metadata": {},
   "outputs": [],
   "source": [
    "# Main function -- call this\n",
    "def do_it():\n",
    "    data_out = pd.DataFrame()\n",
    "    for roadname in road_list:\n",
    "        data_fr = prep_road(roadname)\n",
    "        data_fb = prep_bridge(roadname)\n",
    "        data_fb = clean_lr(data_fb)\n",
    "        data = join_roadbridge(data_fb, data_fr)\n",
    "        data = bridge_priority(data)\n",
    "        data = simio_columns(data)\n",
    "        data_out = data_out.append(data, ignore_index = True)\n",
    "    save_for_simio(data_out)"
   ]
  },
  {
   "cell_type": "code",
   "execution_count": 42,
   "metadata": {},
   "outputs": [],
   "source": [
    "do_it()"
   ]
  },
  {
   "cell_type": "code",
   "execution_count": null,
   "metadata": {},
   "outputs": [],
   "source": []
  }
 ],
 "metadata": {
  "kernelspec": {
   "display_name": "Python 3",
   "language": "python",
   "name": "python3"
  },
  "language_info": {
   "codemirror_mode": {
    "name": "ipython",
    "version": 3
   },
   "file_extension": ".py",
   "mimetype": "text/x-python",
   "name": "python",
   "nbconvert_exporter": "python",
   "pygments_lexer": "ipython3",
   "version": "3.7.1"
  }
 },
 "nbformat": 4,
 "nbformat_minor": 2
}
