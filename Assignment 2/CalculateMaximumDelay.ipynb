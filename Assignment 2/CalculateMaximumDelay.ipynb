{
 "cells": [
  {
   "cell_type": "code",
   "execution_count": null,
   "metadata": {},
   "outputs": [],
   "source": [
    "# This part is not automated because for now it is only needed to calculate once\n",
    "# For scenario 8 the maximum delay is calculated by multiplying the percentages of the bridges that are broken down per categorie by the total number of bridges of that category on the N1 road\n",
    "# For example, there are 79 bridges of category A and in scenario 8 10 percent of them break down, which equals 8 bridges. Then we first take the longest bridges (because they have the longest delay time) and sum it all\n",
    "# We do this for all of the categories, which results in a maximum delay of 33 hours. We use this maximum delay to calculate the warm up period\n",
    "\n",
    "# Total number of bridges on the N1\n",
    "num = 0\n",
    "for i in range(0,len(df)):\n",
    "    if df.iloc[i,11] == 'BridgesDelay':\n",
    "        num += 1\n",
    "# Set all the variables to 0\n",
    "l0 = 0\n",
    "l10 = 0\n",
    "l50 = 0\n",
    "l200 = 0\n",
    "\n",
    "A = 0\n",
    "B = 0\n",
    "C = 0\n",
    "D = 0\n",
    "\n",
    "# Check all the different lenghts of the bridges with category A, then B, C and D\n",
    "for row in range(0,len(df)):\n",
    "    if df.Cat.iloc[row,] == 'A':\n",
    "        A += 1\n",
    "        if df.Length.iloc[row,] < 10:\n",
    "            l0 += 1\n",
    "        if df.Length.iloc[row,] > 10 and df.Length.iloc[row,] < 50:\n",
    "            l10 += 1\n",
    "        if df.Length.iloc[row,] > 50 and df.Length.iloc[row,] < 200:\n",
    "            l50 += 1\n",
    "        if df.Length.iloc[row,] > 200:\n",
    "            l200 += 1\n",
    "\n",
    "# Calculate maximum number of bridges that will break down\n",
    "numA = round(0.1 * A)\n",
    "print('lenght under 10 m',l0)  \n",
    "print('length between 10 and 50' , l10) \n",
    "print('length 50 and 200',l50) \n",
    "print('lenght over 200 m', l200) \n",
    "print(A)\n",
    "print(numA)\n",
    "\n",
    "# There are no bridges with category D on the N1\n",
    "total_A = 2 * 4 + 3 * 1.5 + 3 * 1\n",
    "total_B = 0 * 4 + 3 * 1.5 + 6 * 1\n",
    "total_C = 1 * 4 + 3 * 1\n",
    "total_D = 0\n",
    "total = total_A + total_B + total_C + total_D\n",
    "total"
   ]
  }
 ],
 "metadata": {
  "kernelspec": {
   "display_name": "Python 3",
   "language": "python",
   "name": "python3"
  },
  "language_info": {
   "codemirror_mode": {
    "name": "ipython",
    "version": 3
   },
   "file_extension": ".py",
   "mimetype": "text/x-python",
   "name": "python",
   "nbconvert_exporter": "python",
   "pygments_lexer": "ipython3",
   "version": "3.7.1"
  }
 },
 "nbformat": 4,
 "nbformat_minor": 2
}
