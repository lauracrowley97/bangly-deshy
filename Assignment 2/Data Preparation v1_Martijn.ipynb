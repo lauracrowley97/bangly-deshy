{
 "cells": [
  {
   "cell_type": "code",
   "execution_count": 44,
   "metadata": {},
   "outputs": [],
   "source": [
    "## Data Preparation File\n",
    "import pandas as pd\n",
    "import matplotlib.pyplot as plt"
   ]
  },
  {
   "cell_type": "code",
   "execution_count": 21,
   "metadata": {},
   "outputs": [],
   "source": [
    "#loading in road file\n",
    "roads = pd.read_csv('_roads3.csv')\n",
    "N1_fr = roads[roads['road'] == 'N1']\n",
    "N1_fr2 = N1_fr[['road','lrp','lat','lon','chainage']]"
   ]
  },
  {
   "cell_type": "code",
   "execution_count": 41,
   "metadata": {},
   "outputs": [],
   "source": [
    "#loading in bridge file\n",
    "bridges = pd.read_excel('BMMS_overview.xlsx')\n",
    "N1_fb = bridges[bridges['road'] == 'N1'] #only selecting the N1\n",
    "N1_fb = N1_fb.dropna(subset =['width']) #deleting all duplicates, found out when width has NA there was a duplicate which had an value there\n",
    "N1_fb2 = N1_fb[['road','name','LRPName','lat','lon','chainage','length','condition']]\n",
    "N1_fb2.columns = ['road','name','lrp','lat','lon','chainage','length','condition']\n",
    "N1_fb2 = N1_fb2.sort_values(by = ['chainage','lrp'])"
   ]
  },
  {
   "cell_type": "code",
   "execution_count": 46,
   "metadata": {},
   "outputs": [
    {
     "data": {
      "text/html": [
       "<div>\n",
       "<style scoped>\n",
       "    .dataframe tbody tr th:only-of-type {\n",
       "        vertical-align: middle;\n",
       "    }\n",
       "\n",
       "    .dataframe tbody tr th {\n",
       "        vertical-align: top;\n",
       "    }\n",
       "\n",
       "    .dataframe thead th {\n",
       "        text-align: right;\n",
       "    }\n",
       "</style>\n",
       "<table border=\"1\" class=\"dataframe\">\n",
       "  <thead>\n",
       "    <tr style=\"text-align: right;\">\n",
       "      <th></th>\n",
       "      <th>road</th>\n",
       "      <th>lrp</th>\n",
       "      <th>lat</th>\n",
       "      <th>lon</th>\n",
       "      <th>chainage</th>\n",
       "      <th>name</th>\n",
       "      <th>length</th>\n",
       "      <th>condition</th>\n",
       "    </tr>\n",
       "  </thead>\n",
       "  <tbody>\n",
       "    <tr>\n",
       "      <th>0</th>\n",
       "      <td>N1</td>\n",
       "      <td>LRPS</td>\n",
       "      <td>23.706028</td>\n",
       "      <td>90.443333</td>\n",
       "      <td>0.000</td>\n",
       "      <td>NaN</td>\n",
       "      <td>NaN</td>\n",
       "      <td>NaN</td>\n",
       "    </tr>\n",
       "    <tr>\n",
       "      <th>1</th>\n",
       "      <td>N1</td>\n",
       "      <td>LRPSa</td>\n",
       "      <td>23.702917</td>\n",
       "      <td>90.450417</td>\n",
       "      <td>0.814</td>\n",
       "      <td>NaN</td>\n",
       "      <td>NaN</td>\n",
       "      <td>NaN</td>\n",
       "    </tr>\n",
       "    <tr>\n",
       "      <th>2</th>\n",
       "      <td>N1</td>\n",
       "      <td>LRPSb</td>\n",
       "      <td>23.702778</td>\n",
       "      <td>90.450472</td>\n",
       "      <td>0.822</td>\n",
       "      <td>NaN</td>\n",
       "      <td>NaN</td>\n",
       "      <td>NaN</td>\n",
       "    </tr>\n",
       "    <tr>\n",
       "      <th>3</th>\n",
       "      <td>N1</td>\n",
       "      <td>LRP001</td>\n",
       "      <td>23.702139</td>\n",
       "      <td>90.451972</td>\n",
       "      <td>1.000</td>\n",
       "      <td>NaN</td>\n",
       "      <td>NaN</td>\n",
       "      <td>NaN</td>\n",
       "    </tr>\n",
       "    <tr>\n",
       "      <th>1339</th>\n",
       "      <td>N1</td>\n",
       "      <td>LRP001a</td>\n",
       "      <td>23.698739</td>\n",
       "      <td>90.458861</td>\n",
       "      <td>1.800</td>\n",
       "      <td>.</td>\n",
       "      <td>11.3</td>\n",
       "      <td>A</td>\n",
       "    </tr>\n",
       "    <tr>\n",
       "      <th>4</th>\n",
       "      <td>N1</td>\n",
       "      <td>LRP002</td>\n",
       "      <td>23.697889</td>\n",
       "      <td>90.460583</td>\n",
       "      <td>2.000</td>\n",
       "      <td>NaN</td>\n",
       "      <td>NaN</td>\n",
       "      <td>NaN</td>\n",
       "    </tr>\n",
       "    <tr>\n",
       "      <th>5</th>\n",
       "      <td>N1</td>\n",
       "      <td>LRP002a</td>\n",
       "      <td>23.697361</td>\n",
       "      <td>90.461667</td>\n",
       "      <td>2.130</td>\n",
       "      <td>NaN</td>\n",
       "      <td>NaN</td>\n",
       "      <td>NaN</td>\n",
       "    </tr>\n",
       "    <tr>\n",
       "      <th>6</th>\n",
       "      <td>N1</td>\n",
       "      <td>LRP003</td>\n",
       "      <td>23.693833</td>\n",
       "      <td>90.469138</td>\n",
       "      <td>3.000</td>\n",
       "      <td>NaN</td>\n",
       "      <td>NaN</td>\n",
       "      <td>NaN</td>\n",
       "    </tr>\n",
       "    <tr>\n",
       "      <th>7</th>\n",
       "      <td>N1</td>\n",
       "      <td>LRP004</td>\n",
       "      <td>23.693611</td>\n",
       "      <td>90.478777</td>\n",
       "      <td>4.000</td>\n",
       "      <td>NaN</td>\n",
       "      <td>NaN</td>\n",
       "      <td>NaN</td>\n",
       "    </tr>\n",
       "    <tr>\n",
       "      <th>8</th>\n",
       "      <td>N1</td>\n",
       "      <td>LRP004a</td>\n",
       "      <td>23.693805</td>\n",
       "      <td>90.480527</td>\n",
       "      <td>4.175</td>\n",
       "      <td>NaN</td>\n",
       "      <td>NaN</td>\n",
       "      <td>NaN</td>\n",
       "    </tr>\n",
       "  </tbody>\n",
       "</table>\n",
       "</div>"
      ],
      "text/plain": [
       "     road      lrp        lat        lon  chainage name  length condition\n",
       "0      N1     LRPS  23.706028  90.443333     0.000  NaN     NaN       NaN\n",
       "1      N1    LRPSa  23.702917  90.450417     0.814  NaN     NaN       NaN\n",
       "2      N1    LRPSb  23.702778  90.450472     0.822  NaN     NaN       NaN\n",
       "3      N1   LRP001  23.702139  90.451972     1.000  NaN     NaN       NaN\n",
       "1339   N1  LRP001a  23.698739  90.458861     1.800    .    11.3         A\n",
       "4      N1   LRP002  23.697889  90.460583     2.000  NaN     NaN       NaN\n",
       "5      N1  LRP002a  23.697361  90.461667     2.130  NaN     NaN       NaN\n",
       "6      N1   LRP003  23.693833  90.469138     3.000  NaN     NaN       NaN\n",
       "7      N1   LRP004  23.693611  90.478777     4.000  NaN     NaN       NaN\n",
       "8      N1  LRP004a  23.693805  90.480527     4.175  NaN     NaN       NaN"
      ]
     },
     "execution_count": 46,
     "metadata": {},
     "output_type": "execute_result"
    }
   ],
   "source": [
    "#combining the files\n",
    "N1 = N1_fr2.append(N1_fb2, ignore_index = True, sort = False)\n",
    "N1 = N1.sort_values(by = ['chainage']) \n",
    "N1.head(10)"
   ]
  },
  {
   "cell_type": "code",
   "execution_count": 45,
   "metadata": {},
   "outputs": [
    {
     "data": {
      "image/png": "[encoded data removed]",
      "text/plain": [
       "<Figure size 432x288 with 1 Axes>"
      ]
     },
     "metadata": {
      "needs_background": "light"
     },
     "output_type": "display_data"
    }
   ],
   "source": [
    "plt.plot(N1.lon, N1.lat)\n",
    "plt.title(\"Road\")\n",
    "plt.xlabel(\"Longitude\")\n",
    "plt.ylabel(\"Latitude\")\n",
    "plt.show()"
   ]
  },
  {
   "cell_type": "code",
   "execution_count": 55,
   "metadata": {},
   "outputs": [],
   "source": [
    "N1.loc[N1['length'] > 200] = 'Triangular(1,2,4) hours'"
   ]
  },
  {
   "cell_type": "code",
   "execution_count": null,
   "metadata": {},
   "outputs": [],
   "source": []
  },
  {
   "cell_type": "code",
   "execution_count": null,
   "metadata": {},
   "outputs": [],
   "source": []
  }
 ],
 "metadata": {
  "kernelspec": {
   "display_name": "Python 3",
   "language": "python",
   "name": "python3"
  },
  "language_info": {
   "codemirror_mode": {
    "name": "ipython",
    "version": 3
   },
   "file_extension": ".py",
   "mimetype": "text/x-python",
   "name": "python",
   "nbconvert_exporter": "python",
   "pygments_lexer": "ipython3",
   "version": "3.7.0"
  }
 },
 "nbformat": 4,
 "nbformat_minor": 2
}
