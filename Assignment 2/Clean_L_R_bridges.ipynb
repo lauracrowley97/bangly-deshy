{
 "cells": [
  {
   "cell_type": "code",
   "execution_count": null,
   "metadata": {},
   "outputs": [],
   "source": [
    "#Dropping the double bridge and delete the lrps bewow Chittagong\n",
    "import pandas as pd\n",
    "df = pd.read_csv('data_clean_N1.csv')\n",
    "df = df.loc[0:632]\n",
    "df.iloc[100,9] = df.iloc[101,9]\n",
    "df.drop(101, inplace=True)"
   ]
  },
  {
   "cell_type": "code",
   "execution_count": 103,
   "metadata": {},
   "outputs": [],
   "source": [
    "# Save this to a new csv\n",
    "df.to_csv('Data_clean_N1_Dhaka_Chittagong_new.csv', sep=',')"
   ]
  },
  {
   "cell_type": "code",
   "execution_count": 105,
   "metadata": {},
   "outputs": [],
   "source": [
    "# Read all bridge and road data in and check for duplicates\n",
    "df = pd.read_csv('data_clean_all.csv')"
   ]
  },
  {
   "cell_type": "code",
   "execution_count": 106,
   "metadata": {},
   "outputs": [
    {
     "data": {
      "text/plain": [
       "[]"
      ]
     },
     "execution_count": 106,
     "metadata": {},
     "output_type": "execute_result"
    }
   ],
   "source": [
    "# No duplicates are found\n",
    "find_L_R_bridges(df)"
   ]
  },
  {
   "cell_type": "code",
   "execution_count": 88,
   "metadata": {},
   "outputs": [],
   "source": [
    "# Assign a value to the category of the bridge so we can check if one bridge is in a better condition than another one\n",
    "def Determine_cat(x):\n",
    "    cat = 0\n",
    "    if df.iloc[x,8] == 'A':\n",
    "        cat = 4\n",
    "    elif df.iloc[x,8] == 'B':\n",
    "        cat = 3\n",
    "    elif df.iloc[x,8] == 'C':\n",
    "        cat = 2\n",
    "    elif df.iloc[x,8] == 'D':\n",
    "        cat = 1\n",
    "    return cat\n",
    "\n",
    "# Look for Left & Right bridges based on the chainage\n",
    "# If the chainage is the same, add the index number to a list to manually inspect it further\n",
    "def find_L_R_bridges(df):\n",
    "    wrong_list = list()\n",
    "    for i in range(0,len(df)-1):\n",
    "        #to check on the lat and lon as well, include line below in the if statement\n",
    "        #df.iloc[i,3] == df.iloc[i+1,3] and df.iloc[i,4] == df.iloc[i+1,4] \n",
    "        if df.iloc[i,5] == df.iloc[i+1,5] and df.iloc[i,10] == 'BridgesDelay' and df.iloc[i+1,10] == 'BridgesDelay':\n",
    "            cat_first = Determine_cat(i)\n",
    "            cat_second = Determine_cat(i+1)\n",
    "            if cat_first > cat_second:\n",
    "                wrong_list.append(i+1)\n",
    "            elif cat_second > cat_first:\n",
    "                wrong_list.append(i)\n",
    "            elif cat_first == cat_second:\n",
    "                wrong_list.append((i,i+1))\n",
    "    return wrong_list"
   ]
  },
  {
   "cell_type": "code",
   "execution_count": 79,
   "metadata": {},
   "outputs": [
    {
     "data": {
      "text/plain": [
       "0"
      ]
     },
     "execution_count": 79,
     "metadata": {},
     "output_type": "execute_result"
    }
   ],
   "source": [
    "# check if the next node is the same as the LRPName in the line below\n",
    "a = 0\n",
    "for i in range(0,len(df)-1):\n",
    "    if df.iloc[i,9] != df.iloc[i+1,2]:\n",
    "        a += 1\n",
    "a\n",
    "# check if the chainage is increasing\n",
    "a = 0\n",
    "for i in range(0,len(df)-1):\n",
    "    if df.iloc[i,5] > df.iloc[i+1,5]:\n",
    "        a += 1\n",
    "a"
   ]
  }
 ],
 "metadata": {
  "kernelspec": {
   "display_name": "Python 3",
   "language": "python",
   "name": "python3"
  },
  "language_info": {
   "codemirror_mode": {
    "name": "ipython",
    "version": 3
   },
   "file_extension": ".py",
   "mimetype": "text/x-python",
   "name": "python",
   "nbconvert_exporter": "python",
   "pygments_lexer": "ipython3",
   "version": "3.7.1"
  }
 },
 "nbformat": 4,
 "nbformat_minor": 2
}
