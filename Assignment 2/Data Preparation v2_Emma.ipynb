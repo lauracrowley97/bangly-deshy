{
 "cells": [
  {
   "cell_type": "code",
   "execution_count": 1,
   "metadata": {},
   "outputs": [],
   "source": [
    "## Data Preparation File\n",
    "## Group 14"
   ]
  },
  {
   "cell_type": "code",
   "execution_count": 2,
   "metadata": {},
   "outputs": [],
   "source": [
    "import pandas as pd\n",
    "import numpy as np\n",
    "import matplotlib.pyplot as plt"
   ]
  },
  {
   "cell_type": "code",
   "execution_count": 3,
   "metadata": {},
   "outputs": [],
   "source": [
    "# load in road file\n",
    "roads = pd.read_csv('_roads3.csv')\n",
    "# test on the N1 first\n",
    "N1_fr = roads[roads['road'] == 'N1']\n",
    "N1_fr = N1_fr[['road','lrp','lat','lon','chainage']] # subset desired columns\n",
    "N1_fr.columns = ['Road','LRPName','Lat','Lon','Chainage']\n",
    "# N1_fr.head(10)"
   ]
  },
  {
   "cell_type": "code",
   "execution_count": 4,
   "metadata": {},
   "outputs": [],
   "source": [
    "# load in bridge file\n",
    "bridges = pd.read_excel('BMMS_overview.xlsx')\n",
    "N1_fb = bridges[bridges['road'] == 'N1']\n",
    "N1_fb = N1_fb.dropna(subset =['width']) # drop duplicates\n",
    "N1_fb = N1_fb[['road','LRPName','name','chainage','length','condition','lat','lon']] # subset desired columns\n",
    "N1_fb.columns = ['Road','LRPName','Description','Chainage','Length','Cat','Lat','Lon']\n",
    "N1_fb = N1_fb.sort_values(by = ['Chainage','LRPName'])\n",
    "N1_fb = N1_fb.reset_index(drop = True)\n",
    "# N1_fb.head(30)\n",
    "# N1_fb.to_csv(\"N1_dirty.csv\", sep=',')"
   ]
  },
  {
   "cell_type": "code",
   "execution_count": 5,
   "metadata": {},
   "outputs": [],
   "source": [
    "# clean duplicate L/R briges before merge\n",
    "#where LRPName is the same, compare Cat and drop the lower one (if Cat same, drop second one)\n",
    "for i in range(len(N1_fb)):\n",
    "    if i < len(N1_fb)-1:\n",
    "        if N1_fb.LRPName.iloc[i,] == N1_fb.LRPName.iloc[i+1,]:\n",
    "            #print(\"same LRP\")\n",
    "            if N1_fb.Cat.iloc[i,] == N1_fb.Cat.iloc[i+1,]:\n",
    "#                 print(\"same Cat dropped second entry by default\")\n",
    "                N1_fb.drop(N1_fb.index[i+1], inplace = True)\n",
    "            elif N1_fb.Cat.iloc[i,] < N1_fb.Cat.iloc[i+1,]:\n",
    "#                 print(\"first Cat greater dropped second entry\")\n",
    "                #testy.drop(testy.index[[1,3]])\n",
    "                N1_fb.drop(N1_fb.index[i+1], inplace = True)\n",
    "            elif N1_fb.Cat.iloc[i,] > N1_fb.Cat.iloc[i+1,]:\n",
    "#                 print(\"second Cat greater dropped first entry\")\n",
    "                N1_fb.drop(N1_fb.index[i], inplace = True)\n",
    "            else:\n",
    "                pass\n",
    "        else:\n",
    "            pass\n",
    "    else:\n",
    "        pass"
   ]
  },
  {
   "cell_type": "code",
   "execution_count": 6,
   "metadata": {
    "scrolled": true
   },
   "outputs": [],
   "source": [
    "# append files\n",
    "#N1 = N1_fb.append(N1_fr, ignore_index = True, sort = False)\n",
    "N1 = N1_fr.append(N1_fb, ignore_index = True, sort = False)\n",
    "N1 = N1.sort_values(by = ['LRPName']) \n",
    "N1 = N1.reset_index(drop = True)\n",
    "# later, add here instead of calling \"n1\" everywhere, use a variable (or loop) to apply this to all roads\n",
    "# N1.head(50)"
   ]
  },
  {
   "cell_type": "code",
   "execution_count": 7,
   "metadata": {},
   "outputs": [],
   "source": [
    "# remove duplicates\n",
    "#where LRPName repeated from road/brige file, drop road LRP.\n",
    "for i in range(len(N1)):\n",
    "    if i < len(N1)-1:\n",
    "        if N1.LRPName.iloc[i,] == N1.LRPName.iloc[i+1,]:\n",
    "            #print(\"same LRP\")\n",
    "            if N1.Description.iloc[i,] == \"\":\n",
    "#                 print(\"des null, is road point, drop it\")\n",
    "                N1.drop(N1.index[i], inplace = True)\n",
    "            elif N1.Description.iloc[i,] != \"\":\n",
    "#                 print(\"des exists, is bridge point, drop other one\")\n",
    "                N1.drop(N1.index[i+1], inplace = True)\n",
    "            else:\n",
    "                pass\n",
    "        else:\n",
    "            pass\n",
    "    else:\n",
    "        pass"
   ]
  },
  {
   "cell_type": "code",
   "execution_count": 11,
   "metadata": {},
   "outputs": [],
   "source": [
    "# Set up Node Name column\n",
    "N1 = N1.sort_values(by = ['Chainage'])\n",
    "N1 = N1.reset_index(drop = True)\n",
    "N1[\"Next Node\"] = N1.LRPName.shift(-1)\n",
    "N1.loc[N1.LRPName.str.contains(\"LRPE\", case = False), \"Next Node\"] = \"PreRome\"\n",
    "# N1.head(10)"
   ]
  },
  {
   "cell_type": "code",
   "execution_count": 12,
   "metadata": {},
   "outputs": [],
   "source": [
    "# Set up Add On Process column\n",
    "N1.loc[N1.Length.notnull(), \"Add On Process\"] = \"BridgesDelay\"\n",
    "N1.loc[N1.Length.isnull(), \"Add On Process\"] = \"BlankProcess\"\n",
    "# N1.head(10)"
   ]
  },
  {
   "cell_type": "code",
   "execution_count": 13,
   "metadata": {},
   "outputs": [],
   "source": [
    "# Save result\n",
    "N1.to_csv(\"N1_clean.csv\", sep=',')"
   ]
  },
  {
   "cell_type": "code",
   "execution_count": null,
   "metadata": {},
   "outputs": [],
   "source": []
  },
  {
   "cell_type": "code",
   "execution_count": null,
   "metadata": {},
   "outputs": [],
   "source": []
  }
 ],
 "metadata": {
  "kernelspec": {
   "display_name": "Python 3",
   "language": "python",
   "name": "python3"
  },
  "language_info": {
   "codemirror_mode": {
    "name": "ipython",
    "version": 3
   },
   "file_extension": ".py",
   "mimetype": "text/x-python",
   "name": "python",
   "nbconvert_exporter": "python",
   "pygments_lexer": "ipython3",
   "version": "3.6.8"
  }
 },
 "nbformat": 4,
 "nbformat_minor": 2
}
