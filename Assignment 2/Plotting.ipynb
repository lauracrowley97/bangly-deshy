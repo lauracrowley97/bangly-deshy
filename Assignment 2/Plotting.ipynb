{
 "cells": [
  {
   "cell_type": "code",
   "execution_count": 202,
   "metadata": {},
   "outputs": [],
   "source": [
    "import pandas as pd\n",
    "import numpy as np\n",
    "import matplotlib.pyplot as plt\n",
    "import warnings\n",
    "warnings.filterwarnings('ignore')"
   ]
  },
  {
   "cell_type": "code",
   "execution_count": 124,
   "metadata": {},
   "outputs": [],
   "source": [
    "# Create a list of all the LRP's of the bridges\n",
    "df = pd.read_csv('Data_clean_N1_Dhaka_Chittagong_new.csv')\n",
    "BridgeLRPlist = list()\n",
    "for i in range(0,len(df)):\n",
    "    if df.iloc[i,11] == 'BridgesDelay':\n",
    "        BridgeLRPlist.append(df.iloc[i,3])"
   ]
  },
  {
   "cell_type": "code",
   "execution_count": 213,
   "metadata": {},
   "outputs": [
    {
     "data": {
      "text/plain": [
       "Text(0, 0.5, 'Average driving time \\n (Averaged over all replications)')"
      ]
     },
     "execution_count": 213,
     "metadata": {},
     "output_type": "execute_result"
    },
    {
     "data": {
      "image/png": "[encoded data removed]",
      "text/plain": [
       "<Figure size 432x288 with 1 Axes>"
      ]
     },
     "metadata": {
      "needs_background": "light"
     },
     "output_type": "display_data"
    }
   ],
   "source": [
    "df = pd.read_csv('Basic Bitch Case_Model_Experiment1_ResultsSummary.csv',sep=';')\n",
    "# Use this list to drop all the rows that are road points and not bridges\n",
    "extra = ['Model', 'Rome' 'Source1', 'Trucks1']\n",
    "for i in extra:\n",
    "    BridgeLRPlist.append(i)\n",
    "df_bridge = df[df['Object Name'].isin(BridgeLRPlist)]  \n",
    "def replace(x):\n",
    "    return x.replace(',', '.')\n",
    "columns = list(df_bridge)[-5:]\n",
    "for x in columns:\n",
    "    df_bridge[x] = df_bridge[x].apply(replace)\n",
    "    df_bridge[x] = df_bridge[x].astype(float)\n",
    "dfp = df_bridge[df_bridge.Average != 0]\n",
    "dfp = dfp[dfp['Data Item'] == 'TimeInSystem']\n",
    "dfp = dfp[dfp['Statistic Type'] == 'Average (Hours)']\n",
    "dfp.iloc[6,0] = 'Scenario 1'\n",
    "dfs = dfp.sort_values(by = ['Scenario'],ascending = True)\n",
    "x = dfs['Scenario']\n",
    "y = dfs['Average']\n",
    "plt.scatter(x, y, marker='x', color = 'black')\n",
    "plt.xticks(rotation=45)\n",
    "plt.ylim(0, 16)\n",
    "plt.xlabel('Scenarios')\n",
    "plt.ylabel('Average driving time \\n (Averaged over all replications)')"
   ]
  },
  {
   "cell_type": "code",
   "execution_count": 214,
   "metadata": {},
   "outputs": [
    {
     "data": {
      "text/plain": [
       "<Figure size 432x288 with 0 Axes>"
      ]
     },
     "metadata": {},
     "output_type": "display_data"
    }
   ],
   "source": [
    "plt.savefig('ScenarioDrivingTime.png')"
   ]
  },
  {
   "cell_type": "code",
   "execution_count": null,
   "metadata": {},
   "outputs": [],
   "source": []
  },
  {
   "cell_type": "code",
   "execution_count": null,
   "metadata": {},
   "outputs": [],
   "source": []
  },
  {
   "cell_type": "code",
   "execution_count": null,
   "metadata": {},
   "outputs": [],
   "source": []
  },
  {
   "cell_type": "code",
   "execution_count": 174,
   "metadata": {},
   "outputs": [],
   "source": []
  },
  {
   "cell_type": "code",
   "execution_count": 188,
   "metadata": {},
   "outputs": [],
   "source": []
  },
  {
   "cell_type": "code",
   "execution_count": null,
   "metadata": {},
   "outputs": [],
   "source": []
  },
  {
   "cell_type": "code",
   "execution_count": null,
   "metadata": {},
   "outputs": [],
   "source": []
  },
  {
   "cell_type": "code",
   "execution_count": 135,
   "metadata": {},
   "outputs": [],
   "source": [
    "     "
   ]
  },
  {
   "cell_type": "code",
   "execution_count": null,
   "metadata": {},
   "outputs": [],
   "source": []
  },
  {
   "cell_type": "code",
   "execution_count": null,
   "metadata": {},
   "outputs": [],
   "source": []
  },
  {
   "cell_type": "code",
   "execution_count": 158,
   "metadata": {
    "scrolled": true
   },
   "outputs": [],
   "source": [
    "#df_bridge_plot = df_bridge[df_bridge['Statistic Type'] == 'Average'].reset_index() \n",
    "#df_bridge_plot['Value'].idxmax()"
   ]
  },
  {
   "cell_type": "code",
   "execution_count": null,
   "metadata": {},
   "outputs": [],
   "source": []
  },
  {
   "cell_type": "code",
   "execution_count": null,
   "metadata": {},
   "outputs": [],
   "source": []
  },
  {
   "cell_type": "code",
   "execution_count": 122,
   "metadata": {},
   "outputs": [
    {
     "data": {
      "image/png": "[encoded data removed]",
      "text/plain": [
       "<Figure size 432x288 with 1 Axes>"
      ]
     },
     "metadata": {
      "needs_background": "light"
     },
     "output_type": "display_data"
    }
   ],
   "source": [
    "boxplot = df_bridge.boxplot(column=['Value'])"
   ]
  },
  {
   "cell_type": "code",
   "execution_count": null,
   "metadata": {},
   "outputs": [],
   "source": []
  },
  {
   "cell_type": "code",
   "execution_count": 117,
   "metadata": {},
   "outputs": [],
   "source": []
  },
  {
   "cell_type": "code",
   "execution_count": 64,
   "metadata": {},
   "outputs": [],
   "source": []
  },
  {
   "cell_type": "code",
   "execution_count": null,
   "metadata": {},
   "outputs": [],
   "source": []
  },
  {
   "cell_type": "code",
   "execution_count": null,
   "metadata": {},
   "outputs": [],
   "source": []
  },
  {
   "cell_type": "code",
   "execution_count": null,
   "metadata": {},
   "outputs": [],
   "source": []
  },
  {
   "cell_type": "code",
   "execution_count": null,
   "metadata": {},
   "outputs": [],
   "source": [
    "# first define the ratios\n",
    "r1 = 0.6       # 20%\n",
    "r2 = r1 + 0.4  # 40%\n",
    "\n",
    "# define some sizes of the scatter marker\n",
    "sizes = np.array([2000, 2000, 2000])\n",
    "\n",
    "# calculate the points of the first pie marker\n",
    "#\n",
    "# these are just the origin (0,0) +\n",
    "# some points on a circle cos,sin\n",
    "x = [0] + np.cos(np.linspace(0, 2 * np.pi * r1, 10)).tolist()\n",
    "y = [0] + np.sin(np.linspace(0, 2 * np.pi * r1, 10)).tolist()\n",
    "xy1 = np.column_stack([x, y])\n",
    "s1 = np.abs(xy1).max()\n",
    "\n",
    "x = [0] + np.cos(np.linspace(2 * np.pi * r1, 2 * np.pi * r2, 10)).tolist()\n",
    "y = [0] + np.sin(np.linspace(2 * np.pi * r1, 2 * np.pi * r2, 10)).tolist()\n",
    "xy2 = np.column_stack([x, y])\n",
    "s2 = np.abs(xy2).max()\n",
    "\n",
    "x = [0] + np.cos(np.linspace(2 * np.pi * r2, 2 * np.pi, 10)).tolist()\n",
    "y = [0] + np.sin(np.linspace(2 * np.pi * r2, 2 * np.pi, 10)).tolist()\n",
    "xy3 = np.column_stack([x, y])\n",
    "s3 = np.abs(xy3).max()\n",
    "\n",
    "x = [0] + np.cos(np.linspace(2 * np.pi * r2, 2 * np.pi, 10)).tolist()\n",
    "y = [0] + np.sin(np.linspace(2 * np.pi * r2, 2 * np.pi, 10)).tolist()\n",
    "xy4 = np.column_stack([x, y])\n",
    "s4 = np.abs(xy4).max()\n",
    "\n",
    "fig, ax = plt.subplots()\n",
    "ax.scatter(range(4), range(4), marker=xy1,\n",
    "           s=s1 ** 2 * sizes, facecolor='blue')\n",
    "ax.scatter(range(4), range(4), marker=xy2,\n",
    "           s=s2 ** 2 * sizes, facecolor='green')\n",
    "ax.scatter(range(4), range(4), marker=xy3,\n",
    "           s=s3 ** 2 * sizes, facecolor='red')\n",
    "ax.scatter(range(4), range(4), marker=xy4,\n",
    "           s=s3 ** 2 * sizes, facecolor='yellow')\n",
    "\n",
    "\n",
    "plt.show()"
   ]
  }
 ],
 "metadata": {
  "kernelspec": {
   "display_name": "Python 3",
   "language": "python",
   "name": "python3"
  },
  "language_info": {
   "codemirror_mode": {
    "name": "ipython",
    "version": 3
   },
   "file_extension": ".py",
   "mimetype": "text/x-python",
   "name": "python",
   "nbconvert_exporter": "python",
   "pygments_lexer": "ipython3",
   "version": "3.7.1"
  }
 },
 "nbformat": 4,
 "nbformat_minor": 2
}
